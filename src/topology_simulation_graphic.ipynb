{
 "cells": [
  {
   "cell_type": "markdown",
   "id": "e6846784",
   "metadata": {},
   "source": [
    "# File to analyze graphics of default simulation\n",
    "------------------------------------------------"
   ]
  },
  {
   "cell_type": "markdown",
   "id": "8626c286",
   "metadata": {},
   "source": [
    "## Imports to collect data and plot graphics"
   ]
  },
  {
   "cell_type": "code",
   "execution_count": null,
   "id": "f747deb6",
   "metadata": {},
   "outputs": [],
   "source": [
    "from components.graphic_generator import Graphic_Gen\n",
    "from components.data_manager import Data_Manager\n",
    "from components.utils.enums import Topologies\n",
    "import components.network_data as nwd\n",
    "from components.utils.enums import Colors\n",
    "import numpy as np\n",
    "import pandas as pd"
   ]
  },
  {
   "cell_type": "markdown",
   "id": "1904e388",
   "metadata": {},
   "source": [
    "## Constants"
   ]
  },
  {
   "cell_type": "code",
   "execution_count": null,
   "id": "477b5eab",
   "metadata": {},
   "outputs": [],
   "source": [
    "PATH_TO_CSV: str = \"data/topology_simulation/topology_simulation.csv\"\n",
    "NUMBER_OF_NODES: tuple = tuple([i for i in range(12, 108, 12)])\n",
    "PARAMS_TUPLE_ERDOS_RENYI: tuple[float, float, float] = (0.1, 0.3, 0.5)\n",
    "PARAMS_TUPLE_BARABASI_ALBERT: tuple[int, int, int] = (1, 3, 5)\n",
    "STANDARD_DEVIATION: bool = False\n",
    "GRID: bool = True\n",
    "COLORS_TUPLE: tuple[Colors, Colors, Colors] = (Colors.RED, Colors.ORANGE, Colors.YELLOW)"
   ]
  },
  {
   "cell_type": "markdown",
   "id": "cd2afd7a",
   "metadata": {},
   "source": [
    "## Load csv"
   ]
  },
  {
   "cell_type": "code",
   "execution_count": null,
   "id": "416c4f63",
   "metadata": {},
   "outputs": [],
   "source": [
    "dm: Data_Manager = Data_Manager()\n",
    "loaded: bool = dm.load_csv(PATH_TO_CSV)\n",
    "if not loaded:\n",
    "    print(\"File don't loaded\")"
   ]
  },
  {
   "cell_type": "markdown",
   "id": "5e4ea929",
   "metadata": {},
   "source": [
    "## Convert csv to pandas DataFrame"
   ]
  },
  {
   "cell_type": "code",
   "execution_count": null,
   "id": "817723e5",
   "metadata": {},
   "outputs": [],
   "source": [
    "dframe: pd.DataFrame = dm.csv_to_dataframe()"
   ]
  },
  {
   "cell_type": "markdown",
   "id": "fe050d66",
   "metadata": {},
   "source": [
    "## Create a function to collect default networks simulations"
   ]
  },
  {
   "cell_type": "code",
   "execution_count": null,
   "id": "9d94421a",
   "metadata": {},
   "outputs": [],
   "source": [
    "def collect_default_grid_arrays(\n",
    "    df: pd.DataFrame,\n",
    "    desired_column: str,\n",
    "    multiply_factor: int = 1,\n",
    "    divisor_column: str | None = None\n",
    ") -> np.ndarray:\n",
    "    \"\"\"\n",
    "    Create 2D arrays with data of default grid networks.\n",
    "\n",
    "    Args:\n",
    "        df (DataFrame): DataFrame with all data storage\n",
    "        desired_column (str): Name of column desired\n",
    "        multiply_factor (int): Number to multiply all lines\n",
    "        divisor_column (str | None): Name of column to divide the arrays. If is None don't division occurs\n",
    "\n",
    "    Returns:\n",
    "        ndarray[ndarray]: Line of array is a array to calculate the point of graphic\n",
    "    \"\"\"\n",
    "\n",
    "    list_of_arrays: list[np.ndarray] = []\n",
    "\n",
    "    for number_of_nodes in NUMBER_OF_NODES:\n",
    "        mask: pd.Series = (\n",
    "            (df[nwd.NUMBER_OF_BLACK_HOLES] == 0) & \n",
    "            (df[nwd.TOPOLOGY] == Topologies.GRID.value) & \n",
    "            (df[nwd.NUMBER_OF_NODES] == number_of_nodes)\n",
    "        )\n",
    "\n",
    "        if divisor_column is None:\n",
    "            data: np.ndarray = (df.loc[mask, desired_column] * multiply_factor).to_numpy()\n",
    "        else:\n",
    "            data: np.ndarray = ((df.loc[mask, desired_column] / df.loc[mask, divisor_column]) * multiply_factor).to_numpy()\n",
    "        \n",
    "        list_of_arrays.append(data)\n",
    "\n",
    "    return np.array(list_of_arrays)\n",
    "\n",
    "\n",
    "def collect_default_arrays_dict(\n",
    "    df: pd.DataFrame,\n",
    "    topology: Topologies,\n",
    "    parameters_columns: list[int | float],\n",
    "    desired_column: str,\n",
    "    multiply_factor: int = 1,\n",
    "    divisor_column: str | None = None\n",
    ") -> dict[int | float, np.ndarray]:\n",
    "    \"\"\"\n",
    "    Create 2D arrays with data of default networks to use in Graphic Generator.\n",
    "\n",
    "    Args:\n",
    "        df (DataFrame): DataFrame with all data storage\n",
    "        topology (str): Name of the desired topology\n",
    "        parameters_columns (list[str]): Ordened list with all parameters\n",
    "        desired_column (str): Name of column desired\n",
    "        multiply_factor (int): Number to multiply all lines\n",
    "        divisor_column (str | None): Name of column to divide the arrays. If is None don't division occurs\n",
    "\n",
    "    Returns:\n",
    "        dict[str, ndarray[ndarray]]: Dict with key is the parameter and line of array is a array to calculate the point of graphic\n",
    "    \"\"\"\n",
    "\n",
    "    dict_of_arrays: dict[int | float, np.ndarray] = dict()\n",
    "    \n",
    "    for parameter in parameters_columns:\n",
    "        \n",
    "        list_of_arrays: list[np.ndarray] = []\n",
    "\n",
    "        for number_of_nodes in NUMBER_OF_NODES:\n",
    "            mask: pd.Series = (\n",
    "                (df[nwd.NUMBER_OF_BLACK_HOLES] == 0) & \n",
    "                (df[nwd.TOPOLOGY] == topology.value) & \n",
    "                (df[nwd.NUMBER_OF_NODES] == number_of_nodes) &\n",
    "                (df[nwd.PARAMETER] == parameter)\n",
    "            )\n",
    "\n",
    "            if divisor_column is None:\n",
    "                data: np.ndarray = (df.loc[mask, desired_column] * multiply_factor).to_numpy()\n",
    "            else:\n",
    "                data: np.ndarray = ((df.loc[mask, desired_column] / df.loc[mask, divisor_column]) * multiply_factor).to_numpy()\n",
    "            \n",
    "            list_of_arrays.append(data)\n",
    "            \n",
    "        dict_of_arrays[parameter] = np.array(list_of_arrays)\n",
    "\n",
    "    return dict_of_arrays"
   ]
  },
  {
   "cell_type": "markdown",
   "id": "a7ffc3de",
   "metadata": {},
   "source": [
    "## Manipulate data to collect columns from default networks (without black holes)"
   ]
  },
  {
   "cell_type": "code",
   "execution_count": null,
   "id": "c8777183",
   "metadata": {},
   "outputs": [],
   "source": [
    "# ===============\n",
    "#      Grid\n",
    "# ===============\n",
    "\n",
    "# 2D arrays\n",
    "# line: array[i] = array to converte a point of graphic\n",
    "\n",
    "default_grid_consummed_eprs_array: np.ndarray = collect_default_grid_arrays(\n",
    "    df=dframe,\n",
    "    desired_column=nwd.CONSUMED_EPRS\n",
    ")\n",
    "\n",
    "# (total success / total requests) * 100\n",
    "default_grid_success_tax_array: np.ndarray = collect_default_grid_arrays(\n",
    "    df=dframe,\n",
    "    desired_column=nwd.TOTAL_REQUEST_SUCCESS,\n",
    "    divisor_column=nwd.REQUESTS,\n",
    "    multiply_factor=100\n",
    ")\n",
    "\n",
    "# total fidelity / success requests\n",
    "default_grid_avg_fidelity_array: np.ndarray = collect_default_grid_arrays(\n",
    "    df=dframe,\n",
    "    desired_column=nwd.TOTAL_ROUTE_FIDELITY,\n",
    "    divisor_column=nwd.TOTAL_REQUEST_SUCCESS\n",
    ")\n",
    "\n",
    "\n",
    "# ===============\n",
    "# Barabási-Albert\n",
    "# ===============\n",
    "\n",
    "default_barabasi_albert_consummed_eprs_dict: dict[int | float, np.ndarray] = collect_default_arrays_dict(\n",
    "    df=dframe,\n",
    "    topology=Topologies.BARABASI_ALBERT,\n",
    "    parameters_columns=[i for i in PARAMS_TUPLE_BARABASI_ALBERT],\n",
    "    desired_column=nwd.CONSUMED_EPRS\n",
    ")\n",
    "\n",
    "# (total success / total requests) * 100\n",
    "default_barabasi_albert_success_tax_dict: dict[int | float, np.ndarray] = collect_default_arrays_dict(\n",
    "    df=dframe,\n",
    "    topology=Topologies.BARABASI_ALBERT,\n",
    "    parameters_columns=[i for i in PARAMS_TUPLE_BARABASI_ALBERT],\n",
    "    desired_column=nwd.TOTAL_REQUEST_SUCCESS,\n",
    "    divisor_column=nwd.REQUESTS,\n",
    "    multiply_factor=100\n",
    ")\n",
    "\n",
    "# total fidelity / success requests\n",
    "default_barabasi_albert_avg_fidelity_dict: dict[int | float, np.ndarray] = collect_default_arrays_dict(\n",
    "    df=dframe,\n",
    "    topology=Topologies.BARABASI_ALBERT,\n",
    "    parameters_columns=[i for i in PARAMS_TUPLE_BARABASI_ALBERT],\n",
    "    desired_column=nwd.TOTAL_ROUTE_FIDELITY,\n",
    "    divisor_column=nwd.TOTAL_REQUEST_SUCCESS\n",
    ")\n",
    "\n",
    "\n",
    "# ===============\n",
    "#   Erdős-Rényi\n",
    "# ===============\n",
    "\n",
    "default_erdos_renyi_consummed_eprs_dict: dict[int | float, np.ndarray] = collect_default_arrays_dict(\n",
    "    df=dframe,\n",
    "    topology=Topologies.ERDOS_RENYI,\n",
    "    parameters_columns=[i for i in PARAMS_TUPLE_ERDOS_RENYI],\n",
    "    desired_column=nwd.CONSUMED_EPRS\n",
    ")\n",
    "\n",
    "# (total success / total requests) * 100\n",
    "default_erdos_renyi_success_tax_dict: dict[int | float, np.ndarray] = collect_default_arrays_dict(\n",
    "    df=dframe,\n",
    "    topology=Topologies.ERDOS_RENYI,\n",
    "    parameters_columns=[i for i in PARAMS_TUPLE_ERDOS_RENYI],\n",
    "    desired_column=nwd.TOTAL_REQUEST_SUCCESS,\n",
    "    divisor_column=nwd.REQUESTS,\n",
    "    multiply_factor=100\n",
    ")\n",
    "\n",
    "# total fidelity / success requests\n",
    "default_erdos_renyi_avg_fidelity_dict: dict[int | float, np.ndarray] = collect_default_arrays_dict(\n",
    "    df=dframe,\n",
    "    topology=Topologies.ERDOS_RENYI,\n",
    "    parameters_columns=[i for i in PARAMS_TUPLE_ERDOS_RENYI],\n",
    "    desired_column=nwd.TOTAL_ROUTE_FIDELITY,\n",
    "    divisor_column=nwd.TOTAL_REQUEST_SUCCESS\n",
    ")"
   ]
  },
  {
   "cell_type": "markdown",
   "id": "619eb9f8",
   "metadata": {},
   "source": [
    "## Functions to collect attacked networks"
   ]
  },
  {
   "cell_type": "code",
   "execution_count": null,
   "id": "11a31be4",
   "metadata": {},
   "outputs": [],
   "source": [
    "def collect_attacked_grid_networks_arrays(\n",
    "    df: pd.DataFrame, \n",
    "    desired_column: str,\n",
    "    targets: int,\n",
    "    multiply_factor: int = 1,\n",
    "    divisor_column: str | None = None\n",
    ") -> np.ndarray:\n",
    "    \"\"\"\n",
    "    Create 2D arrays with data of attacked grid networks to plot graphics in Graphic Generator.\n",
    "\n",
    "    Args:\n",
    "        df (DataFrame): DataFrame with all data storage\n",
    "        desired_column (str): Name of column desired\n",
    "        targets (int): Number of targets per black hole\n",
    "        multiply_factor (int): Number to multiply all lines\n",
    "        divisor_column (str | None): Name of column to divide the arrays. If is None don't division occurs\n",
    "\n",
    "    Returns:\n",
    "        ndarray[ndarray]: Line of array is a array to calculate the point of graphic\n",
    "    \"\"\"\n",
    "    \n",
    "    list_of_arrays: list[np.ndarray] = list()\n",
    "\n",
    "    for number_of_nodes in NUMBER_OF_NODES:\n",
    "\n",
    "        mask: pd.Series = (\n",
    "            (df[nwd.TOPOLOGY] == Topologies.GRID.value) &\n",
    "            (df[nwd.NUMBER_OF_BLACK_HOLES] != 0) &\n",
    "            (df[nwd.NUMBER_OF_NODES] == number_of_nodes) &\n",
    "            (df[nwd.TARGETS_PER_BLACK_HOLE] == targets)\n",
    "        )\n",
    "\n",
    "        if divisor_column is None:\n",
    "            data: np.ndarray = (df.loc[mask, desired_column] * multiply_factor).to_numpy()\n",
    "        else:\n",
    "            data: np.ndarray = ((df.loc[mask, desired_column] / df.loc[mask, divisor_column]) * multiply_factor).to_numpy()\n",
    "        \n",
    "        list_of_arrays.append(data)\n",
    "\n",
    "    return np.array(list_of_arrays)\n",
    "\n",
    "\n",
    "def collect_attacked_networks_arrays_dict(\n",
    "    df: pd.DataFrame,\n",
    "    topology: Topologies, \n",
    "    parameters_columns: list[int | float],\n",
    "    desired_column: str,\n",
    "    targets: int,\n",
    "    multiply_factor: int = 1,\n",
    "    divisor_column: str | None = None  \n",
    ") -> dict[int | float, np.ndarray]:\n",
    "    \"\"\"\n",
    "    Create 2D arrays with data of attacked networks to use in Graphic Generator.\n",
    "\n",
    "    Args:\n",
    "        df (DataFrame): DataFrame with all data storage\n",
    "        topology (str): Name of the desired topology\n",
    "        parameters_columns (list[str]): Ordened list with all parameters\n",
    "        desired_column (str): Name of column desired\n",
    "        targets (int): Number of targets per black hole\n",
    "        multiply_factor (int): Number to multiply all lines\n",
    "        divisor_column (str | None): Name of column to divide the arrays. If is None don't division occurs\n",
    "\n",
    "    Returns:\n",
    "        dict[str, ndarray[ndarray]]: Dict with key is the parameter and line of array is a array to calculate the point of graphic\n",
    "    \"\"\"\n",
    "    \n",
    "    dict_of_arrays: dict[int | float, np.ndarray] = dict()\n",
    "\n",
    "    for parameter in parameters_columns:\n",
    "        list_of_points: list[np.ndarray] = list()\n",
    "        for number_of_nodes in NUMBER_OF_NODES:\n",
    "            mask: pd.Series = (\n",
    "                (df[nwd.TOPOLOGY] == topology.value) &\n",
    "                (df[nwd.NUMBER_OF_BLACK_HOLES] != 0) &\n",
    "                (df[nwd.TARGETS_PER_BLACK_HOLE] == targets) &\n",
    "                (df[nwd.PARAMETER] == parameter) &\n",
    "                (df[nwd.NUMBER_OF_NODES] == number_of_nodes)\n",
    "            )\n",
    "\n",
    "            if divisor_column is None:\n",
    "                data: np.ndarray = (df.loc[mask, desired_column] * multiply_factor).to_numpy()\n",
    "            else:\n",
    "                data: np.ndarray = ((df.loc[mask, desired_column] / df.loc[mask, divisor_column]) * multiply_factor).to_numpy()\n",
    "            \n",
    "            list_of_points.append(data)\n",
    "        dict_of_arrays[parameter] = np.array(list_of_points)\n",
    "\n",
    "    return dict_of_arrays"
   ]
  },
  {
   "cell_type": "markdown",
   "id": "b162c5d1",
   "metadata": {},
   "source": [
    "## Collect all data from Grid attacked networks"
   ]
  },
  {
   "cell_type": "code",
   "execution_count": null,
   "id": "5a51bf8f",
   "metadata": {},
   "outputs": [],
   "source": [
    "# ===============\n",
    "#      GRID\n",
    "# ===============\n",
    "\n",
    "attacked_grid_consummed_eprs_no_targets_axis: np.ndarray = collect_attacked_grid_networks_arrays(\n",
    "    df=dframe,\n",
    "    desired_column=nwd.CONSUMED_EPRS,\n",
    "    targets=0,\n",
    ")\n",
    "\n",
    "attacked_grid_consummed_eprs_with_targets_axis: np.ndarray = collect_attacked_grid_networks_arrays(\n",
    "    df=dframe,\n",
    "    desired_column=nwd.CONSUMED_EPRS,\n",
    "    targets=1,\n",
    ")\n",
    "\n",
    "attacked_grid_success_tax_no_targets_axis: np.ndarray = collect_attacked_grid_networks_arrays(\n",
    "    df=dframe,\n",
    "    desired_column=nwd.TOTAL_REQUEST_SUCCESS,\n",
    "    targets=0,\n",
    "    multiply_factor=100,\n",
    "    divisor_column=nwd.REQUESTS,\n",
    ")\n",
    "\n",
    "attacked_grid_success_tax_with_targets_axis: np.ndarray = collect_attacked_grid_networks_arrays(\n",
    "    df=dframe,\n",
    "    desired_column=nwd.TOTAL_REQUEST_SUCCESS,\n",
    "    targets=1,\n",
    "    multiply_factor=100,\n",
    "    divisor_column=nwd.REQUESTS\n",
    ")\n",
    "\n",
    "attacked_grid_avg_fidelity_no_targets_axis: np.ndarray = collect_attacked_grid_networks_arrays(\n",
    "    df=dframe,\n",
    "    desired_column=nwd.TOTAL_ROUTE_FIDELITY,\n",
    "    targets=0,\n",
    "    divisor_column=nwd.TOTAL_REQUEST_SUCCESS\n",
    ")\n",
    "\n",
    "attacked_grid_avg_fidelity_with_targets_axis: np.ndarray = collect_attacked_grid_networks_arrays(\n",
    "    df=dframe,\n",
    "    desired_column=nwd.TOTAL_REQUEST_SUCCESS,\n",
    "    targets=1,\n",
    "    divisor_column=nwd.TOTAL_REQUEST_SUCCESS\n",
    ")"
   ]
  },
  {
   "cell_type": "markdown",
   "id": "59fa1d72",
   "metadata": {},
   "source": [
    "## Collect all data from Barabási-Albert attacked networks"
   ]
  },
  {
   "cell_type": "code",
   "execution_count": null,
   "id": "d78a333f",
   "metadata": {},
   "outputs": [],
   "source": [
    "# ===============\n",
    "# Barabási-Albert\n",
    "# ===============\n",
    "\n",
    "attacked_barabasi_albert_consummed_eprs_no_targets_dict: dict[int | float, np.ndarray] = collect_attacked_networks_arrays_dict(\n",
    "    df=dframe,\n",
    "    topology=Topologies.BARABASI_ALBERT,\n",
    "    parameters_columns=[i for i in PARAMS_TUPLE_BARABASI_ALBERT],\n",
    "    desired_column=nwd.CONSUMED_EPRS,\n",
    "    targets=0,\n",
    ")\n",
    "\n",
    "attacked_barabasi_albert_consummed_eprs_with_targets_dict: dict[int | float, np.ndarray] = collect_attacked_networks_arrays_dict(\n",
    "    df=dframe,\n",
    "    topology=Topologies.BARABASI_ALBERT,\n",
    "    parameters_columns=[i for i in PARAMS_TUPLE_BARABASI_ALBERT],\n",
    "    desired_column=nwd.CONSUMED_EPRS,\n",
    "    targets=1,\n",
    ")\n",
    "\n",
    "\n",
    "attacked_barabasi_albert_success_tax_no_targets_dict: dict[int | float, np.ndarray] = collect_attacked_networks_arrays_dict(\n",
    "    df=dframe,\n",
    "    topology=Topologies.BARABASI_ALBERT,\n",
    "    parameters_columns=[i for i in PARAMS_TUPLE_BARABASI_ALBERT],\n",
    "    desired_column=nwd.TOTAL_REQUEST_SUCCESS,\n",
    "    targets=0,\n",
    "    multiply_factor=100,\n",
    "    divisor_column=nwd.REQUESTS\n",
    ")\n",
    "\n",
    "attacked_barabasi_albert_success_tax_with_targets_dict: dict[int | float, np.ndarray] = collect_attacked_networks_arrays_dict(\n",
    "    df=dframe,\n",
    "    topology=Topologies.BARABASI_ALBERT,\n",
    "    parameters_columns=[i for i in PARAMS_TUPLE_BARABASI_ALBERT],\n",
    "    desired_column=nwd.TOTAL_REQUEST_SUCCESS,\n",
    "    targets=1,\n",
    "    multiply_factor=100,\n",
    "    divisor_column=nwd.REQUESTS\n",
    ")\n",
    "\n",
    "attacked_barabasi_albert_avg_fidelity_no_targets_dict: dict[int | float, np.ndarray] = collect_attacked_networks_arrays_dict(\n",
    "    df=dframe,\n",
    "    topology=Topologies.BARABASI_ALBERT,\n",
    "    parameters_columns=[i for i in PARAMS_TUPLE_BARABASI_ALBERT],\n",
    "    desired_column=nwd.TOTAL_ROUTE_FIDELITY,\n",
    "    targets=0,\n",
    "    divisor_column=nwd.TOTAL_REQUEST_SUCCESS\n",
    ")\n",
    "\n",
    "attacked_barabasi_albert_avg_fidelity_with_targets_dict: dict[int | float, np.ndarray] = collect_attacked_networks_arrays_dict(\n",
    "    df=dframe,\n",
    "    topology=Topologies.BARABASI_ALBERT,\n",
    "    parameters_columns=[i for i in PARAMS_TUPLE_BARABASI_ALBERT],\n",
    "    desired_column=nwd.TOTAL_ROUTE_FIDELITY,\n",
    "    targets=1,\n",
    "    divisor_column=nwd.TOTAL_REQUEST_SUCCESS\n",
    ")"
   ]
  },
  {
   "cell_type": "markdown",
   "id": "5c6f4e64",
   "metadata": {},
   "source": [
    "## Collect all data from Erdős-Rényi attacked networks"
   ]
  },
  {
   "cell_type": "code",
   "execution_count": null,
   "id": "7bed61e8",
   "metadata": {},
   "outputs": [],
   "source": [
    "# ===============\n",
    "#   Erdős-Rényi\n",
    "# ===============\n",
    "\n",
    "attacked_erdos_renyi_consummed_eprs_no_targets_dict: dict[int | float, np.ndarray] = collect_attacked_networks_arrays_dict(\n",
    "    df=dframe,\n",
    "    topology=Topologies.ERDOS_RENYI,\n",
    "    parameters_columns=[i for i in PARAMS_TUPLE_ERDOS_RENYI],\n",
    "    desired_column=nwd.CONSUMED_EPRS,\n",
    "    targets=0,\n",
    ")\n",
    "\n",
    "attacked_erdos_renyi_consummed_eprs_with_targets_dict: dict[int | float, np.ndarray] = collect_attacked_networks_arrays_dict(\n",
    "    df=dframe,\n",
    "    topology=Topologies.ERDOS_RENYI,\n",
    "    parameters_columns=[i for i in PARAMS_TUPLE_ERDOS_RENYI],\n",
    "    desired_column=nwd.CONSUMED_EPRS,\n",
    "    targets=1,\n",
    ")\n",
    "\n",
    "\n",
    "attacked_erdos_renyi_success_tax_no_targets_dict: dict[int | float, np.ndarray] = collect_attacked_networks_arrays_dict(\n",
    "    df=dframe,\n",
    "    topology=Topologies.ERDOS_RENYI,\n",
    "    parameters_columns=[i for i in PARAMS_TUPLE_ERDOS_RENYI],\n",
    "    desired_column=nwd.TOTAL_REQUEST_SUCCESS,\n",
    "    targets=0,\n",
    "    multiply_factor=100,\n",
    "    divisor_column=nwd.REQUESTS\n",
    ")\n",
    "\n",
    "attacked_erdos_renyi_success_tax_with_targets_dict: dict[int | float, np.ndarray] = collect_attacked_networks_arrays_dict(\n",
    "    df=dframe,\n",
    "    topology=Topologies.ERDOS_RENYI,\n",
    "    parameters_columns=[i for i in PARAMS_TUPLE_ERDOS_RENYI],\n",
    "    desired_column=nwd.TOTAL_REQUEST_SUCCESS,\n",
    "    targets=1,\n",
    "    multiply_factor=100,\n",
    "    divisor_column=nwd.REQUESTS\n",
    ")\n",
    "\n",
    "attacked_erdos_renyi_avg_fidelity_no_targets_dict: dict[int | float, np.ndarray] = collect_attacked_networks_arrays_dict(\n",
    "    df=dframe,\n",
    "    topology=Topologies.ERDOS_RENYI,\n",
    "    parameters_columns=[i for i in PARAMS_TUPLE_ERDOS_RENYI],\n",
    "    desired_column=nwd.TOTAL_ROUTE_FIDELITY,\n",
    "    targets=0,\n",
    "    divisor_column=nwd.TOTAL_REQUEST_SUCCESS\n",
    ")\n",
    "\n",
    "attacked_erdos_renyi_avg_fidelity_with_targets_dict: dict[int | float, np.ndarray] = collect_attacked_networks_arrays_dict(\n",
    "    df=dframe,\n",
    "    topology=Topologies.ERDOS_RENYI,\n",
    "    parameters_columns=[i for i in PARAMS_TUPLE_ERDOS_RENYI],\n",
    "    desired_column=nwd.TOTAL_ROUTE_FIDELITY,\n",
    "    targets=1,\n",
    "    divisor_column=nwd.TOTAL_REQUEST_SUCCESS\n",
    ")"
   ]
  },
  {
   "cell_type": "markdown",
   "id": "c4a7d84c",
   "metadata": {},
   "source": [
    "------------------------\n",
    "# Grid topology graphics\n",
    "------------------------"
   ]
  },
  {
   "cell_type": "markdown",
   "id": "fc8a9e11",
   "metadata": {},
   "source": [
    "## Success Tax"
   ]
  },
  {
   "cell_type": "markdown",
   "id": "db1973b1",
   "metadata": {},
   "source": [
    "### Grid without targets Success Tax"
   ]
  },
  {
   "cell_type": "code",
   "execution_count": null,
   "id": "03fcbbaf",
   "metadata": {},
   "outputs": [],
   "source": [
    "graphic_generator: Graphic_Gen = Graphic_Gen()\n",
    "\n",
    "graphic_generator.define_x_axle(np.array(NUMBER_OF_NODES))\n",
    "graphic_generator.append_y_axle(\n",
    "    axle=attacked_grid_success_tax_no_targets_axis,\n",
    "    label='Grid',\n",
    "    standard_deviation=STANDARD_DEVIATION,\n",
    "    default_axle=default_grid_success_tax_array,\n",
    "    color=Colors.RED)\n",
    "\n",
    "graphic_generator.plot(tittle=\"Grid Success Tax (target off)\", x_label=\"Number of nodes\", y_label=\"Diff Success Tax\", grid=GRID)"
   ]
  },
  {
   "cell_type": "markdown",
   "id": "88ad1a70",
   "metadata": {},
   "source": [
    "### Grid with targets Success Tax"
   ]
  },
  {
   "cell_type": "code",
   "execution_count": null,
   "id": "1cf5c889",
   "metadata": {},
   "outputs": [],
   "source": [
    "graphic_generator: Graphic_Gen = Graphic_Gen()\n",
    "\n",
    "graphic_generator.define_x_axle(np.array(NUMBER_OF_NODES))\n",
    "graphic_generator.append_y_axle(\n",
    "    axle=attacked_grid_success_tax_with_targets_axis,\n",
    "    label='Grid',\n",
    "    standard_deviation=STANDARD_DEVIATION,\n",
    "    default_axle=default_grid_success_tax_array,\n",
    "    color=Colors.RED)\n",
    "\n",
    "graphic_generator.plot(tittle=\"Grid Success Tax (target off)\", x_label=\"Number of nodes\", y_label=\"Diff Success Tax\", grid=GRID)"
   ]
  },
  {
   "cell_type": "markdown",
   "id": "ea63e262",
   "metadata": {},
   "source": [
    "## Consummed EPRs"
   ]
  },
  {
   "cell_type": "markdown",
   "id": "4bd5f257",
   "metadata": {},
   "source": [
    "### Grid without targets consummed EPRs"
   ]
  },
  {
   "cell_type": "code",
   "execution_count": null,
   "id": "c3d5605a",
   "metadata": {},
   "outputs": [],
   "source": [
    "graphic_generator: Graphic_Gen = Graphic_Gen()\n",
    "\n",
    "graphic_generator.define_x_axle(np.array(NUMBER_OF_NODES))\n",
    "graphic_generator.append_y_axle(\n",
    "    axle=attacked_grid_consummed_eprs_no_targets_axis,\n",
    "    label='Grid',\n",
    "    standard_deviation=STANDARD_DEVIATION,\n",
    "    default_axle=default_grid_consummed_eprs_array,\n",
    "    color=Colors.RED)\n",
    "\n",
    "graphic_generator.plot(tittle=\"Grid Consummed EPRs (target off)\", x_label=\"Number of nodes\", y_label=\"Diff Consummed EPRs\", grid=GRID)"
   ]
  },
  {
   "cell_type": "markdown",
   "id": "334b1868",
   "metadata": {},
   "source": [
    "### Grid with targets consummed EPRs"
   ]
  },
  {
   "cell_type": "code",
   "execution_count": null,
   "id": "6b505757",
   "metadata": {},
   "outputs": [],
   "source": [
    "graphic_generator: Graphic_Gen = Graphic_Gen()\n",
    "\n",
    "graphic_generator.define_x_axle(np.array(NUMBER_OF_NODES))\n",
    "graphic_generator.append_y_axle(\n",
    "    axle=attacked_grid_consummed_eprs_with_targets_axis,\n",
    "    label='Grid',\n",
    "    standard_deviation=STANDARD_DEVIATION,\n",
    "    default_axle=default_grid_consummed_eprs_array,\n",
    "    color=Colors.RED)\n",
    "\n",
    "graphic_generator.plot(tittle=\"Grid Consummed EPRs (target on)\", x_label=\"Number of nodes\", y_label=\"Diff Consummed EPRs\", grid=GRID)"
   ]
  },
  {
   "cell_type": "markdown",
   "id": "20398a31",
   "metadata": {},
   "source": [
    "## Average Route Fidelity"
   ]
  },
  {
   "cell_type": "markdown",
   "id": "9f1d4906",
   "metadata": {},
   "source": [
    "### Grid without targets Average Route Fidelity"
   ]
  },
  {
   "cell_type": "code",
   "execution_count": null,
   "id": "675f9f60",
   "metadata": {},
   "outputs": [],
   "source": [
    "graphic_generator: Graphic_Gen = Graphic_Gen()\n",
    "\n",
    "graphic_generator.define_x_axle(np.array(NUMBER_OF_NODES))\n",
    "graphic_generator.append_y_axle(\n",
    "    axle=attacked_grid_avg_fidelity_no_targets_axis,\n",
    "    label='Grid',\n",
    "    standard_deviation=STANDARD_DEVIATION,\n",
    "    default_axle=default_grid_avg_fidelity_array,\n",
    "    color=Colors.RED)\n",
    "\n",
    "graphic_generator.plot(tittle=\"Grid Route Fidelity (target off)\", x_label=\"Number of nodes\", y_label=\"Diff Route Fidelity\", grid=GRID)"
   ]
  },
  {
   "cell_type": "markdown",
   "id": "48a68e19",
   "metadata": {},
   "source": [
    "### Grid with targets Average Route Fidelity"
   ]
  },
  {
   "cell_type": "code",
   "execution_count": null,
   "id": "d9e16f97",
   "metadata": {},
   "outputs": [],
   "source": [
    "graphic_generator: Graphic_Gen = Graphic_Gen()\n",
    "\n",
    "graphic_generator.define_x_axle(np.array(NUMBER_OF_NODES))\n",
    "graphic_generator.append_y_axle(\n",
    "    axle=attacked_grid_avg_fidelity_with_targets_axis,\n",
    "    label='Grid',\n",
    "    standard_deviation=STANDARD_DEVIATION,\n",
    "    default_axle=default_grid_avg_fidelity_array,\n",
    "    color=Colors.RED)\n",
    "\n",
    "graphic_generator.plot(tittle=\"Grid Route Fidelity (target on)\", x_label=\"Number of nodes\", y_label=\"Diff Route Fidelity\", grid=GRID)"
   ]
  },
  {
   "cell_type": "markdown",
   "id": "9cd8347a",
   "metadata": {},
   "source": [
    "-------------------------------\n",
    "# Erdős-Rényi topology graphics\n",
    "-------------------------------"
   ]
  },
  {
   "cell_type": "markdown",
   "id": "2ec0db30",
   "metadata": {},
   "source": [
    "## Success Tax"
   ]
  },
  {
   "cell_type": "markdown",
   "id": "288df30d",
   "metadata": {},
   "source": [
    "### Erdős-Rényi without targets Success Tax"
   ]
  },
  {
   "cell_type": "code",
   "execution_count": null,
   "id": "39031430",
   "metadata": {},
   "outputs": [],
   "source": [
    "graphic_generator = Graphic_Gen()\n",
    "graphic_generator.define_x_axle(np.array(NUMBER_OF_NODES))\n",
    "\n",
    "for parameter, color in zip(PARAMS_TUPLE_ERDOS_RENYI, COLORS_TUPLE):\n",
    "    param_key: str = f\"p={parameter}\"\n",
    "    graphic_generator.append_y_axle(\n",
    "        axle=attacked_erdos_renyi_success_tax_no_targets_dict[parameter],\n",
    "        label=param_key,\n",
    "        standard_deviation=STANDARD_DEVIATION,\n",
    "        default_axle=default_erdos_renyi_success_tax_dict[parameter],\n",
    "        color=color\n",
    "    )\n",
    "\n",
    "graphic_generator.plot(tittle=\"Erdős-Rényi Success Tax (target off)\", x_label=\"Number of nodes\", y_label=\"Diff Success Tax\", grid=GRID)\n"
   ]
  },
  {
   "cell_type": "markdown",
   "id": "9fefb225",
   "metadata": {},
   "source": [
    "### Erdős-Rényi with targets Success Tax"
   ]
  },
  {
   "cell_type": "code",
   "execution_count": null,
   "id": "435b2002",
   "metadata": {},
   "outputs": [],
   "source": [
    "graphic_generator = Graphic_Gen()\n",
    "graphic_generator.define_x_axle(np.array(NUMBER_OF_NODES))\n",
    "\n",
    "for parameter, color in zip(PARAMS_TUPLE_ERDOS_RENYI, COLORS_TUPLE):\n",
    "    param_key: str = f\"p={parameter}\"\n",
    "    graphic_generator.append_y_axle(\n",
    "        axle=attacked_erdos_renyi_success_tax_with_targets_dict[parameter],\n",
    "        label=param_key,\n",
    "        standard_deviation=STANDARD_DEVIATION,\n",
    "        default_axle=default_erdos_renyi_success_tax_dict[parameter],\n",
    "        color=color\n",
    "    )\n",
    "\n",
    "graphic_generator.plot(tittle=\"Erdős-Rényi Success Tax (target on)\", x_label=\"Number of nodes\", y_label=\"Diff Success Tax\", grid=GRID)\n"
   ]
  },
  {
   "cell_type": "markdown",
   "id": "d1cd5de6",
   "metadata": {},
   "source": [
    "## Consummed EPRs"
   ]
  },
  {
   "cell_type": "markdown",
   "id": "c050992e",
   "metadata": {},
   "source": [
    "### Erdős-Rényi without targets Consummed EPRs"
   ]
  },
  {
   "cell_type": "code",
   "execution_count": null,
   "id": "4f0da9e4",
   "metadata": {},
   "outputs": [],
   "source": [
    "graphic_generator = Graphic_Gen()\n",
    "graphic_generator.define_x_axle(np.array(NUMBER_OF_NODES))\n",
    "\n",
    "for parameter, color in zip(PARAMS_TUPLE_ERDOS_RENYI, COLORS_TUPLE):\n",
    "    param_key: str = f\"p={parameter}\"\n",
    "    graphic_generator.append_y_axle(\n",
    "        axle=attacked_erdos_renyi_consummed_eprs_no_targets_dict[parameter],\n",
    "        label=param_key,\n",
    "        standard_deviation=STANDARD_DEVIATION,\n",
    "        default_axle=default_erdos_renyi_consummed_eprs_dict[parameter],\n",
    "        color=color\n",
    "    )\n",
    "\n",
    "graphic_generator.plot(tittle=\"Erdős-Rényi Consummed EPRs (target off)\", x_label=\"Number of nodes\", y_label=\"Diff Consummed EPRs\", grid=GRID)\n"
   ]
  },
  {
   "cell_type": "markdown",
   "id": "a227ee12",
   "metadata": {},
   "source": [
    "### Erdős-Rényi with targets Consummed EPRs"
   ]
  },
  {
   "cell_type": "code",
   "execution_count": null,
   "id": "ccc8abdf",
   "metadata": {},
   "outputs": [],
   "source": [
    "graphic_generator = Graphic_Gen()\n",
    "graphic_generator.define_x_axle(np.array(NUMBER_OF_NODES))\n",
    "\n",
    "for parameter, color in zip(PARAMS_TUPLE_ERDOS_RENYI, COLORS_TUPLE):\n",
    "    param_key: str = f\"p={parameter}\"\n",
    "    graphic_generator.append_y_axle(\n",
    "        axle=attacked_erdos_renyi_consummed_eprs_with_targets_dict[parameter],\n",
    "        label=param_key,\n",
    "        standard_deviation=STANDARD_DEVIATION,\n",
    "        default_axle=default_erdos_renyi_consummed_eprs_dict[parameter],\n",
    "        color=color\n",
    "    )\n",
    "\n",
    "graphic_generator.plot(tittle=\"Erdős-Rényi Consummed EPRs (target on)\", x_label=\"Number of nodes\", y_label=\"Diff Consummed EPRs\", grid=GRID)\n"
   ]
  },
  {
   "cell_type": "markdown",
   "id": "49da929d",
   "metadata": {},
   "source": [
    "## Average Route Fidelity"
   ]
  },
  {
   "cell_type": "markdown",
   "id": "71bbbf7a",
   "metadata": {},
   "source": [
    "### Erdős-Rényi without targets Average Route Fidelity"
   ]
  },
  {
   "cell_type": "code",
   "execution_count": null,
   "id": "d05fb001",
   "metadata": {},
   "outputs": [],
   "source": [
    "graphic_generator = Graphic_Gen()\n",
    "graphic_generator.define_x_axle(np.array(NUMBER_OF_NODES))\n",
    "\n",
    "for parameter, color in zip(PARAMS_TUPLE_ERDOS_RENYI, COLORS_TUPLE):\n",
    "    param_key: str = f\"p={parameter}\"\n",
    "    graphic_generator.append_y_axle(\n",
    "        axle=attacked_erdos_renyi_avg_fidelity_no_targets_dict[parameter],\n",
    "        label=param_key,\n",
    "        standard_deviation=STANDARD_DEVIATION,\n",
    "        default_axle=default_erdos_renyi_avg_fidelity_dict[parameter],\n",
    "        color=color\n",
    "    )\n",
    "\n",
    "graphic_generator.plot(tittle=\"Erdős-Rényi Route Fidelity (target off)\", x_label=\"Number of nodes\", y_label=\"Diff Route Fidelity\", grid=GRID)\n"
   ]
  },
  {
   "cell_type": "markdown",
   "id": "fcb58d84",
   "metadata": {},
   "source": [
    "### Erdős-Rényi with targets Average Route Fidelity"
   ]
  },
  {
   "cell_type": "code",
   "execution_count": null,
   "id": "b47ca88f",
   "metadata": {},
   "outputs": [],
   "source": [
    "graphic_generator = Graphic_Gen()\n",
    "graphic_generator.define_x_axle(np.array(NUMBER_OF_NODES))\n",
    "\n",
    "for parameter, color in zip(PARAMS_TUPLE_ERDOS_RENYI, COLORS_TUPLE):\n",
    "    param_key: str = f\"p={parameter}\"\n",
    "    graphic_generator.append_y_axle(\n",
    "        axle=attacked_erdos_renyi_avg_fidelity_with_targets_dict[parameter],\n",
    "        label=param_key,\n",
    "        standard_deviation=STANDARD_DEVIATION,\n",
    "        default_axle=default_erdos_renyi_avg_fidelity_dict[parameter],\n",
    "        color=color\n",
    "    )\n",
    "\n",
    "graphic_generator.plot(tittle=\"Erdős-Rényi Route Fidelity (target on)\", x_label=\"Number of nodes\", y_label=\"Diff Route Fidelity\", grid=GRID)\n"
   ]
  },
  {
   "cell_type": "markdown",
   "id": "6d154479",
   "metadata": {},
   "source": [
    "----------------------------------\n",
    "# Barbási-Albert topology graphics\n",
    "----------------------------------"
   ]
  },
  {
   "cell_type": "markdown",
   "id": "48c31e7e",
   "metadata": {},
   "source": [
    "## Success Tax"
   ]
  },
  {
   "cell_type": "markdown",
   "id": "d8e7857f",
   "metadata": {},
   "source": [
    "### Barbási-Albert without targets Success Tax"
   ]
  },
  {
   "cell_type": "code",
   "execution_count": null,
   "id": "0d971c06",
   "metadata": {},
   "outputs": [],
   "source": [
    "graphic_generator = Graphic_Gen()\n",
    "graphic_generator.define_x_axle(np.array(NUMBER_OF_NODES))\n",
    "\n",
    "for parameter, color in zip(PARAMS_TUPLE_BARABASI_ALBERT, COLORS_TUPLE):\n",
    "    param_key: str = f\"m={parameter}\"\n",
    "    graphic_generator.append_y_axle(\n",
    "        axle=attacked_barabasi_albert_success_tax_no_targets_dict[parameter],\n",
    "        label=param_key,\n",
    "        standard_deviation=STANDARD_DEVIATION,\n",
    "        default_axle=default_barabasi_albert_success_tax_dict[parameter],\n",
    "        color=color\n",
    "    )\n",
    "\n",
    "graphic_generator.plot(tittle=\"Barabási-Albert Success Tax (target off)\", x_label=\"Number of nodes\", y_label=\"Diff Success Tax\", grid=GRID)\n"
   ]
  },
  {
   "cell_type": "markdown",
   "id": "3df46668",
   "metadata": {},
   "source": [
    "### Barbási-Albert with targets Success Tax"
   ]
  },
  {
   "cell_type": "code",
   "execution_count": null,
   "id": "46b00946",
   "metadata": {},
   "outputs": [],
   "source": [
    "graphic_generator = Graphic_Gen()\n",
    "graphic_generator.define_x_axle(np.array(NUMBER_OF_NODES))\n",
    "\n",
    "for parameter, color in zip(PARAMS_TUPLE_BARABASI_ALBERT, COLORS_TUPLE):\n",
    "    param_key: str = f\"m={parameter}\"\n",
    "    graphic_generator.append_y_axle(\n",
    "        axle=attacked_barabasi_albert_success_tax_with_targets_dict[parameter],\n",
    "        label=param_key,\n",
    "        standard_deviation=STANDARD_DEVIATION,\n",
    "        default_axle=default_barabasi_albert_success_tax_dict[parameter],\n",
    "        color=color\n",
    "    )\n",
    "\n",
    "graphic_generator.plot(tittle=\"Barabási-Albert Success Tax (target on)\", x_label=\"Number of nodes\", y_label=\"Diff Success Tax\", grid=GRID)\n"
   ]
  },
  {
   "cell_type": "markdown",
   "id": "3873b577",
   "metadata": {},
   "source": [
    "## Consummed EPRs"
   ]
  },
  {
   "cell_type": "markdown",
   "id": "2dc8547c",
   "metadata": {},
   "source": [
    "### Barbási-Albert without targets Consummed EPRs"
   ]
  },
  {
   "cell_type": "code",
   "execution_count": null,
   "id": "4a497ce4",
   "metadata": {},
   "outputs": [],
   "source": [
    "graphic_generator = Graphic_Gen()\n",
    "graphic_generator.define_x_axle(np.array(NUMBER_OF_NODES))\n",
    "\n",
    "for parameter, color in zip(PARAMS_TUPLE_BARABASI_ALBERT, COLORS_TUPLE):\n",
    "    param_key: str = f\"m={parameter}\"\n",
    "    graphic_generator.append_y_axle(\n",
    "        axle=attacked_barabasi_albert_consummed_eprs_no_targets_dict[parameter],\n",
    "        label=param_key,\n",
    "        standard_deviation=STANDARD_DEVIATION,\n",
    "        default_axle=default_barabasi_albert_consummed_eprs_dict[parameter],\n",
    "        color=color\n",
    "    )\n",
    "\n",
    "graphic_generator.plot(tittle=\"Barabási-Albert Consummed EPRs (target off)\", x_label=\"Number of nodes\", y_label=\"Diff Consummed EPRs\", grid=GRID)\n"
   ]
  },
  {
   "cell_type": "markdown",
   "id": "81daef40",
   "metadata": {},
   "source": [
    "### Barabási-Albert with targets Consummed EPRs"
   ]
  },
  {
   "cell_type": "code",
   "execution_count": null,
   "id": "0361c8d9",
   "metadata": {},
   "outputs": [],
   "source": [
    "graphic_generator = Graphic_Gen()\n",
    "graphic_generator.define_x_axle(np.array(NUMBER_OF_NODES))\n",
    "\n",
    "for parameter, color in zip(PARAMS_TUPLE_BARABASI_ALBERT, COLORS_TUPLE):\n",
    "    param_key: str = f\"m={parameter}\"\n",
    "    graphic_generator.append_y_axle(\n",
    "        axle=attacked_barabasi_albert_consummed_eprs_with_targets_dict[parameter],\n",
    "        label=param_key,\n",
    "        standard_deviation=STANDARD_DEVIATION,\n",
    "        default_axle=default_barabasi_albert_consummed_eprs_dict[parameter],\n",
    "        color=color\n",
    "    )\n",
    "\n",
    "graphic_generator.plot(tittle=\"Barabási-Albert Consummed EPRs (target on)\", x_label=\"Number of nodes\", y_label=\"Diff Consummed EPRs\", grid=GRID)\n"
   ]
  },
  {
   "cell_type": "markdown",
   "id": "c44dc1c7",
   "metadata": {},
   "source": [
    "## Average Route Fidelity"
   ]
  },
  {
   "cell_type": "markdown",
   "id": "eba32dbc",
   "metadata": {},
   "source": [
    "### Barabási-Albert without targets Average Route Fidelity"
   ]
  },
  {
   "cell_type": "code",
   "execution_count": null,
   "id": "fbe7298c",
   "metadata": {},
   "outputs": [],
   "source": [
    "graphic_generator = Graphic_Gen()\n",
    "graphic_generator.define_x_axle(np.array(NUMBER_OF_NODES))\n",
    "\n",
    "for parameter, color in zip(PARAMS_TUPLE_BARABASI_ALBERT, COLORS_TUPLE):\n",
    "    param_key: str = f\"m={parameter}\"\n",
    "    graphic_generator.append_y_axle(\n",
    "        axle=attacked_barabasi_albert_avg_fidelity_no_targets_dict[parameter],\n",
    "        label=param_key,\n",
    "        standard_deviation=STANDARD_DEVIATION,\n",
    "        default_axle=default_barabasi_albert_avg_fidelity_dict[parameter],\n",
    "        color=color\n",
    "    )\n",
    "\n",
    "graphic_generator.plot(tittle=\"Barabási-Albert Route Fidelity (target off)\", x_label=\"Number of nodes\", y_label=\"Diff Route Fidelity\", grid=GRID)\n"
   ]
  },
  {
   "cell_type": "markdown",
   "id": "12f3f402",
   "metadata": {},
   "source": [
    "### Erdős-Rényi with targets Average Route Fidelity"
   ]
  },
  {
   "cell_type": "code",
   "execution_count": null,
   "id": "643c2c2f",
   "metadata": {},
   "outputs": [],
   "source": [
    "graphic_generator = Graphic_Gen()\n",
    "graphic_generator.define_x_axle(np.array(NUMBER_OF_NODES))\n",
    "\n",
    "for parameter, color in zip(PARAMS_TUPLE_BARABASI_ALBERT, COLORS_TUPLE):\n",
    "    param_key: str = f\"m={parameter}\"\n",
    "    graphic_generator.append_y_axle(\n",
    "        axle=attacked_barabasi_albert_avg_fidelity_with_targets_dict[parameter],\n",
    "        label=param_key,\n",
    "        standard_deviation=STANDARD_DEVIATION,\n",
    "        default_axle=default_barabasi_albert_avg_fidelity_dict[parameter],\n",
    "        color=color\n",
    "    )\n",
    "\n",
    "graphic_generator.plot(tittle=\"Barabási-Albert Route Fidelity (target on)\", x_label=\"Number of nodes\", y_label=\"Diff Route Fidelity\", grid=GRID)\n"
   ]
  },
  {
   "cell_type": "markdown",
   "id": "5bb8e9e5",
   "metadata": {},
   "source": [
    "# Correlation Graphic"
   ]
  },
  {
   "cell_type": "code",
   "execution_count": null,
   "id": "7b069acc",
   "metadata": {},
   "outputs": [],
   "source": [
    "df: pd.DataFrame = dframe.drop(\n",
    "    columns=[\n",
    "        nwd.INTENSITY,\n",
    "        nwd.NORMAL_NODE_SWAP_PROB,\n",
    "        nwd.REQUESTS\n",
    "    ]\n",
    ") # remove constants columns and string columns\n",
    "\n",
    "Graphic_Gen.plot_heatmap(df.corr(), title=\"Heatmap of Correlation in Default Simulations\")"
   ]
  }
 ],
 "metadata": {
  "kernelspec": {
   "display_name": ".venv",
   "language": "python",
   "name": "python3"
  },
  "language_info": {
   "codemirror_mode": {
    "name": "ipython",
    "version": 3
   },
   "file_extension": ".py",
   "mimetype": "text/x-python",
   "name": "python",
   "nbconvert_exporter": "python",
   "pygments_lexer": "ipython3",
   "version": "3.12.10"
  }
 },
 "nbformat": 4,
 "nbformat_minor": 5
}
