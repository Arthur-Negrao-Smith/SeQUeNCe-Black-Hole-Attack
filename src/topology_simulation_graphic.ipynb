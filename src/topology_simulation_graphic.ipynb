{
 "cells": [
  {
   "cell_type": "markdown",
   "id": "e6846784",
   "metadata": {},
   "source": [
    "# File to analyze graphics of default simulation"
   ]
  },
  {
   "cell_type": "markdown",
   "id": "8626c286",
   "metadata": {},
   "source": [
    "## Imports to collect data and plot graphics"
   ]
  },
  {
   "cell_type": "code",
   "execution_count": 1,
   "id": "f747deb6",
   "metadata": {},
   "outputs": [],
   "source": [
    "from components.graphic_generator import Graphic_Gen\n",
    "from components.data_manager import Data_Manager\n",
    "from components.utils.enums import Topologies\n",
    "import components.network_data as nwd\n",
    "from components.utils.enums import Colors\n",
    "import numpy as np\n",
    "import pandas as pd"
   ]
  },
  {
   "cell_type": "markdown",
   "id": "1904e388",
   "metadata": {},
   "source": [
    "## Constants"
   ]
  },
  {
   "cell_type": "code",
   "execution_count": 2,
   "id": "477b5eab",
   "metadata": {},
   "outputs": [],
   "source": [
    "PATH_TO_CSV: str = \"data/topology_simulation/topology_simulation.csv\"\n",
    "NUMBER_OF_NODES: tuple = tuple([12*i for i in range(1, 108, 12)])\n",
    "PARAMS_TUPLE: tuple[float, float, float] = (0.1, 0.3, 0.5)\n",
    "COLORS_LIST: tuple[Colors, Colors, Colors] = (Colors.YELLOW, Colors.ORANGE, Colors.RED)"
   ]
  },
  {
   "cell_type": "markdown",
   "id": "cd2afd7a",
   "metadata": {},
   "source": [
    "## Load csv"
   ]
  },
  {
   "cell_type": "code",
   "execution_count": 3,
   "id": "416c4f63",
   "metadata": {},
   "outputs": [],
   "source": [
    "dm: Data_Manager = Data_Manager()\n",
    "loaded: bool = dm.load_csv(PATH_TO_CSV)\n",
    "if not loaded:\n",
    "    print(\"File don't loaded\")"
   ]
  },
  {
   "cell_type": "markdown",
   "id": "5e4ea929",
   "metadata": {},
   "source": [
    "## Convert csv to pandas DataFrame"
   ]
  },
  {
   "cell_type": "code",
   "execution_count": 4,
   "id": "817723e5",
   "metadata": {},
   "outputs": [],
   "source": [
    "dframe: pd.DataFrame = dm.csv_to_dataframe()"
   ]
  },
  {
   "cell_type": "markdown",
   "id": "fe050d66",
   "metadata": {},
   "source": [
    "## Create a function to collect default networks simulations (topologies: Barabási-Albert and Erdős-Rényi)"
   ]
  },
  {
   "cell_type": "code",
   "execution_count": 19,
   "id": "9d94421a",
   "metadata": {},
   "outputs": [],
   "source": [
    "def collect_default_series_dict(topology: str, parameters_columns: list[str], desired_column: str, multiply_factor: int = 1, divisor_column: str | None = None) -> list[pd.Series]:\n",
    "    dict_of_series: dict[pd.Series] = dict()\n",
    "    \n",
    "    for parameter in parameters_columns:\n",
    "        mask: pd.Series = (\n",
    "            (dframe[nwd.NUMBER_OF_BLACK_HOLES] == 0) & \n",
    "            (dframe[nwd.TOPOLOGY] == topology) & \n",
    "            (dframe[nwd.PARAMETER] == parameter)\n",
    "        )\n",
    "\n",
    "        if divisor_column is None:\n",
    "            dict_of_series[parameter] = (dframe.loc[mask, desired_column] * multiply_factor)\n",
    "        else:\n",
    "            dict_of_series[parameter] = (dframe.loc[mask, desired_column] / dframe.loc[mask, divisor_column]) * multiply_factor\n",
    "\n",
    "    return dict_of_series"
   ]
  },
  {
   "cell_type": "markdown",
   "id": "a7ffc3de",
   "metadata": {},
   "source": [
    "## Manipulate data to collect columns from default networks (without black holes)"
   ]
  },
  {
   "cell_type": "code",
   "execution_count": null,
   "id": "c8777183",
   "metadata": {},
   "outputs": [],
   "source": [
    "# Grid\n",
    "\n",
    "default_grid_consummed_eprs_series: pd.Series = (dframe.loc[\n",
    "    (dframe[nwd.NUMBER_OF_BLACK_HOLES] == 0) & \n",
    "    (dframe[nwd.TOPOLOGY] == 'Grid'), \n",
    "    nwd.CONSUMED_EPRS]\n",
    ")\n",
    "\n",
    "# (total success / total requests) * 100\n",
    "default_grid_success_tax_series: pd.Series = (dframe.loc[\n",
    "    (dframe[nwd.NUMBER_OF_BLACK_HOLES] == 0) & \n",
    "    (dframe[nwd.TOPOLOGY] == 'Grid'), \n",
    "    nwd.TOTAL_REQUEST_SUCCESS]\n",
    ") / (dframe.loc[\n",
    "    (dframe[nwd.NUMBER_OF_BLACK_HOLES] == 0) & \n",
    "    (dframe[nwd.TOPOLOGY] == 'Grid'), \n",
    "    nwd.REQUESTS]\n",
    ") * 100\n",
    "\n",
    "# total fidelity / success requests\n",
    "default_grid_avg_fidelity_series: pd.Series = (dframe.loc[\n",
    "    (dframe[nwd.NUMBER_OF_BLACK_HOLES] == 0) & \n",
    "    (dframe[nwd.TOPOLOGY] == 'Grid'), \n",
    "    nwd.TOTAL_ROUTE_FIDELITY]\n",
    ") / (dframe.loc[\n",
    "        (dframe[nwd.NUMBER_OF_BLACK_HOLES] == 0) & \n",
    "        (dframe[nwd.TOPOLOGY] == 'Grid'), \n",
    "        nwd.TOTAL_ROUTE_FIDELITY]\n",
    ")\n",
    "\n",
    "\n",
    "# Barabási-Albert\n",
    "\n",
    "default_barabasi_albert_consummed_eprs_dict: dict[str, pd.Series] = collect_default_series_dict(\n",
    "    topology='Barabási-Albert',\n",
    "    parameters_columns=[f'm={i}' for i in range(1, 7, 2)],\n",
    "    desired_column=nwd.CONSUMED_EPRS\n",
    ")\n",
    "\n",
    "# (total success / total requests) * 100\n",
    "default_barabasi_albert_success_tax_dict: dict[str, pd.Series] = collect_default_series_dict(\n",
    "    topology='Barabási-Albert',\n",
    "    parameters_columns=[f'm={i}' for i in range(1, 7, 2)],\n",
    "    desired_column=nwd.TOTAL_REQUEST_SUCCESS,\n",
    "    divisor_column=nwd.REQUESTS,\n",
    "    multiply_factor=100\n",
    ")\n",
    "\n",
    "# total fidelity / success requests\n",
    "default_barabasi_avg_fidelity_eprs_dict: dict[str, pd.Series] = collect_default_series_dict(\n",
    "    topology='Barabási-Albert',\n",
    "    parameters_columns=[f'm={i}' for i in range(1, 7, 2)],\n",
    "    desired_column=nwd.TOTAL_ROUTE_FIDELITY,\n",
    "    divisor_column=nwd.TOTAL_REQUEST_SUCCESS\n",
    ")\n",
    "\n",
    "\n",
    "# Erdős-Rényi\n",
    "\n",
    "default_erdos_renyi_consummed_eprs_dict: dict[str, pd.Series] = collect_default_series_dict(\n",
    "    topology='Erdős-Rényi',\n",
    "    parameters_columns=[f'p={i}' for i in PARAMS_TUPLE],\n",
    "    desired_column=nwd.CONSUMED_EPRS\n",
    ")\n",
    "\n",
    "# (total success / total requests) * 100\n",
    "default_erdos_renyi_success_tax_dict: dict[str, pd.Series] = collect_default_series_dict(\n",
    "    topology='Erdős-Rényi',\n",
    "    parameters_columns=[f'p={i}' for i in PARAMS_TUPLE],\n",
    "    desired_column=nwd.TOTAL_REQUEST_SUCCESS,\n",
    "    divisor_column=nwd.REQUESTS,\n",
    "    multiply_factor=100\n",
    ")\n",
    "\n",
    "# total fidelity / success requests\n",
    "default_erdos_renyi_avg_fidelity_dict: dict[str, pd.Series] = collect_default_series_dict(\n",
    "    topology='Erdős-Rényi',\n",
    "    parameters_columns=[f'p={i}' for i in PARAMS_TUPLE],\n",
    "    desired_column=nwd.TOTAL_ROUTE_FIDELITY,\n",
    "    divisor_column=nwd.TOTAL_REQUEST_SUCCESS\n",
    ")"
   ]
  }
 ],
 "metadata": {
  "kernelspec": {
   "display_name": ".venv",
   "language": "python",
   "name": "python3"
  },
  "language_info": {
   "codemirror_mode": {
    "name": "ipython",
    "version": 3
   },
   "file_extension": ".py",
   "mimetype": "text/x-python",
   "name": "python",
   "nbconvert_exporter": "python",
   "pygments_lexer": "ipython3",
   "version": "3.12.11"
  }
 },
 "nbformat": 4,
 "nbformat_minor": 5
}
