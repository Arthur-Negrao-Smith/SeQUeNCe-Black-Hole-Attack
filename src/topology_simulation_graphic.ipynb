{
 "cells": [
  {
   "cell_type": "markdown",
   "id": "e6846784",
   "metadata": {},
   "source": [
    "# File to analyze graphics of default simulation"
   ]
  },
  {
   "cell_type": "markdown",
   "id": "8626c286",
   "metadata": {},
   "source": [
    "## Imports to collect data and plot graphics"
   ]
  },
  {
   "cell_type": "code",
   "execution_count": 1,
   "id": "f747deb6",
   "metadata": {},
   "outputs": [],
   "source": [
    "from components.graphic_generator import Graphic_Gen\n",
    "from components.data_manager import Data_Manager\n",
    "import components.network_data as nwd\n",
    "from components.utils.enums import Colors\n",
    "import numpy as np\n",
    "import pandas as pd"
   ]
  },
  {
   "cell_type": "markdown",
   "id": "1904e388",
   "metadata": {},
   "source": [
    "## Constants"
   ]
  },
  {
   "cell_type": "code",
   "execution_count": 2,
   "id": "477b5eab",
   "metadata": {},
   "outputs": [],
   "source": [
    "PATH_TO_CSV: str = \"data/topology_simulation/topology_simulation.csv\"\n",
    "NUMBER_OF_NODES: tuple = tuple([12*i for i in range(1, 108, 12)])\n",
    "PARAMS_TUPLE: tuple[float, float, float] = (0.1, 0.3, 0.5)\n",
    "COLORS_LIST: tuple[Colors, Colors, Colors] = (Colors.YELLOW, Colors.ORANGE, Colors.RED)"
   ]
  },
  {
   "cell_type": "markdown",
   "id": "cd2afd7a",
   "metadata": {},
   "source": [
    "## Load csv"
   ]
  },
  {
   "cell_type": "code",
   "execution_count": 3,
   "id": "416c4f63",
   "metadata": {},
   "outputs": [],
   "source": [
    "dm: Data_Manager = Data_Manager()\n",
    "loaded: bool = dm.load_csv(PATH_TO_CSV)\n",
    "if not loaded:\n",
    "    print(\"File don't loaded\")"
   ]
  },
  {
   "cell_type": "markdown",
   "id": "5e4ea929",
   "metadata": {},
   "source": [
    "## Convert csv to pandas DataFrame"
   ]
  },
  {
   "cell_type": "code",
   "execution_count": null,
   "id": "817723e5",
   "metadata": {},
   "outputs": [],
   "source": [
    "dframe: pd.DataFrame = dm.csv_to_dataframe()"
   ]
  }
 ],
 "metadata": {
  "kernelspec": {
   "display_name": ".venv",
   "language": "python",
   "name": "python3"
  },
  "language_info": {
   "codemirror_mode": {
    "name": "ipython",
    "version": 3
   },
   "file_extension": ".py",
   "mimetype": "text/x-python",
   "name": "python",
   "nbconvert_exporter": "python",
   "pygments_lexer": "ipython3",
   "version": "3.12.10"
  }
 },
 "nbformat": 4,
 "nbformat_minor": 5
}
