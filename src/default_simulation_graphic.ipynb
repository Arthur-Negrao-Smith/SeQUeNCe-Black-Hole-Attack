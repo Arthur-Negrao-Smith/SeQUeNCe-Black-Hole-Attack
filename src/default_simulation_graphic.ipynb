{
 "cells": [
  {
   "cell_type": "markdown",
   "id": "d5b3de9c",
   "metadata": {},
   "source": [
    "# File to see graphics of default simulation"
   ]
  },
  {
   "cell_type": "markdown",
   "id": "af029ab6",
   "metadata": {},
   "source": [
    "## Imports to collect data and plot graphics"
   ]
  },
  {
   "cell_type": "code",
   "execution_count": null,
   "id": "05c6dd45",
   "metadata": {},
   "outputs": [],
   "source": [
    "from components.graphic_generator import Graphic_Gen\n",
    "from components.data_manager import Data_Manager\n",
    "import components.network_data as nwd\n",
    "from components.utils.enums import Colors\n",
    "import numpy as np\n",
    "import pandas as pd"
   ]
  },
  {
   "cell_type": "markdown",
   "id": "a93cbfde",
   "metadata": {},
   "source": [
    "## Constants"
   ]
  },
  {
   "cell_type": "code",
   "execution_count": null,
   "id": "13632d9f",
   "metadata": {},
   "outputs": [],
   "source": [
    "PATH_TO_CSV: str = \"data/default_simulation/default_simulation.csv\"\n",
    "NUMBER_OF_GRAPHIC_POINTS: int = 7\n",
    "BLACK_HOLES_NUMBER: list = [1, 3, 5]\n",
    "INTENSITIES: list = [intensity*0.1 for intensity in range(1, 8)]\n",
    "COLORS_LIST: list[Colors] = [Colors.YELLOW, Colors.ORANGE, Colors.RED]"
   ]
  },
  {
   "cell_type": "markdown",
   "id": "c7b15987",
   "metadata": {},
   "source": [
    "## Load csv"
   ]
  },
  {
   "cell_type": "code",
   "execution_count": null,
   "id": "ad326730",
   "metadata": {},
   "outputs": [],
   "source": [
    "dm: Data_Manager = Data_Manager()\n",
    "loaded: bool = dm.load_csv(PATH_TO_CSV)\n",
    "if not loaded:\n",
    "    print(\"File don't loaded\")"
   ]
  },
  {
   "cell_type": "markdown",
   "id": "9d633596",
   "metadata": {},
   "source": [
    "## Convert csv to pandas DataFrame"
   ]
  },
  {
   "cell_type": "code",
   "execution_count": null,
   "id": "55225036",
   "metadata": {},
   "outputs": [],
   "source": [
    "dframe: pd.DataFrame = dm.csv_to_dataframe()"
   ]
  },
  {
   "cell_type": "markdown",
   "id": "8b3b2fb9",
   "metadata": {},
   "source": [
    "## Manipulate data to collect columns from default network (without black holes)"
   ]
  },
  {
   "cell_type": "code",
   "execution_count": null,
   "id": "c6111161",
   "metadata": {},
   "outputs": [],
   "source": [
    "default_consumed_eprs: pd.Series = (dframe.loc[dframe[nwd.NUMBER_OF_BLACK_HOLES] == 0, nwd.CONSUMED_EPRS])\n",
    "default_success_tax: pd.Series = (dframe.loc[dframe[nwd.NUMBER_OF_BLACK_HOLES] == 0, nwd.TOTAL_REQUEST_SUCCESS])\n",
    "default_avg_fidelity: pd.Series = (dframe.loc[dframe[nwd.NUMBER_OF_BLACK_HOLES] == 0, nwd.TOTAL_ROUTE_FIDELITY])\n",
    "\n",
    "default_number_requests: pd.Series = (dframe.loc[dframe[nwd.NUMBER_OF_BLACK_HOLES] == 0, nwd.REQUESTS])\n",
    "\n",
    "default_axle_consumed_eprs: np.ndarray = (default_consumed_eprs / default_number_requests).to_numpy()\n",
    "default_axle_success_tax: np.ndarray = (default_success_tax / default_number_requests).to_numpy()\n",
    "default_axle_avg_fidelity: np.ndarray = (default_avg_fidelity / default_number_requests).to_numpy()"
   ]
  },
  {
   "cell_type": "markdown",
   "id": "c5cf92ea",
   "metadata": {},
   "source": [
    "## Function to collect attacked data from each number of black holes"
   ]
  },
  {
   "cell_type": "code",
   "execution_count": null,
   "id": "03479258",
   "metadata": {},
   "outputs": [],
   "source": [
    "def collect_axis_list(column: str, targets: int) -> list[list[np.ndarray]]:\n",
    "    attacked_axis_list: list[list[np.ndarray]] = []\n",
    "    for bh_number in BLACK_HOLES_NUMBER:\n",
    "        attacked_axis: list[np.ndarray] = []\n",
    "        for i in range(1, NUMBER_OF_GRAPHIC_POINTS+1):  \n",
    "            mask: pd.Series = (\n",
    "                (dframe[nwd.INTENSITY] == f\"i: {(i*0.1):.1f}\") &\n",
    "                (dframe[nwd.TARGETS_PER_BLACK_HOLE] == targets) &\n",
    "                (dframe[nwd.NUMBER_OF_BLACK_HOLES] == bh_number)\n",
    "            )\n",
    "            attack_consumed_eprs: pd.Series = (dframe.loc[mask, column])\n",
    "            attack_number_requests: pd.Series = (dframe.loc[mask, nwd.REQUESTS])\n",
    "            data: np.ndarray = (attack_consumed_eprs / attack_number_requests).to_numpy()\n",
    "\n",
    "            attacked_axis.append(data)\n",
    "        attacked_axis_list.append(attacked_axis)\n",
    "    \n",
    "    return attacked_axis_list"
   ]
  },
  {
   "cell_type": "markdown",
   "id": "f7c5dc71",
   "metadata": {},
   "source": [
    "## Use the function to collect axis list"
   ]
  },
  {
   "cell_type": "code",
   "execution_count": null,
   "id": "d75e7941",
   "metadata": {},
   "outputs": [],
   "source": [
    "attacked_axis_list_consumed_eprs_no_targets: list[list[np.ndarray]] = collect_axis_list(column=nwd.CONSUMED_EPRS, targets=0)\n",
    "attacked_axis_list_consumed_eprs_with_targets: list[list[np.ndarray]] = collect_axis_list(column=nwd.CONSUMED_EPRS, targets=1)\n",
    "\n",
    "attacked_axis_list_success_tax_no_targets: list[list[np.ndarray]] = collect_axis_list(column=nwd.TOTAL_REQUEST_SUCCESS, targets=0)\n",
    "attacked_axis_list_success_tax_with_targets: list[list[np.ndarray]] = collect_axis_list(column=nwd.TOTAL_REQUEST_SUCCESS, targets=1)\n",
    "\n",
    "attacked_axis_list_avg_fidelity_no_targets: list[list[np.ndarray]] = collect_axis_list(column=nwd.TOTAL_ROUTE_FIDELITY, targets=0)\n",
    "attacked_axis_list_avg_fidelity_with_targets: list[list[np.ndarray]] = collect_axis_list(column=nwd.TOTAL_ROUTE_FIDELITY, targets=1)"
   ]
  },
  {
   "cell_type": "markdown",
   "id": "31dc50b4",
   "metadata": {},
   "source": [
    "## Functions to transform all arrays in same size"
   ]
  },
  {
   "cell_type": "code",
   "execution_count": null,
   "id": "2092db32",
   "metadata": {},
   "outputs": [],
   "source": [
    "def find_min_length(list_of_attacked_axis_lists: list[list[list[np.ndarray]]], list_of_default_axis: list[np.ndarray]) -> int:\n",
    "    min_length: int = -1\n",
    "    for axis_list in list_of_attacked_axis_lists:\n",
    "        for axle in axis_list:\n",
    "            tmp_min_length: int = min(len(array) for array in axle)\n",
    "            \n",
    "            if min_length == -1:\n",
    "                min_length: int = tmp_min_length \n",
    "                continue\n",
    "\n",
    "            if tmp_min_length < min_length:\n",
    "                min_length = tmp_min_length\n",
    "    \n",
    "    for default_axle in list_of_default_axis:\n",
    "        if min_length > len(default_axle):\n",
    "            min_length = len(default_axle)\n",
    "    \n",
    "    return min_length\n",
    "\n",
    "def resize_attacked_array_to_same_length(min_length: int, attacked_axis_list: list[list[np.ndarray]]) -> list[np.ndarray]:\n",
    "    attacked_axis: list[np.ndarray] = []\n",
    "    for axis in attacked_axis_list:\n",
    "        axle: np.ndarray = np.array([array[:min_length] for array in axis])\n",
    "        attacked_axis.append(axle)\n",
    "\n",
    "    return attacked_axis\n",
    "\n",
    "def resize_default_array_to_same_length(min_length: int, default_axle: np.ndarray):\n",
    "    return default_axle[:min_length]"
   ]
  },
  {
   "cell_type": "markdown",
   "id": "0f7f7427",
   "metadata": {},
   "source": [
    "## Transform all arrays in same length"
   ]
  },
  {
   "cell_type": "code",
   "execution_count": null,
   "id": "79274cc4",
   "metadata": {},
   "outputs": [],
   "source": [
    "all_attacked_arrays_list = [\n",
    "    attacked_axis_list_avg_fidelity_no_targets, \n",
    "    attacked_axis_list_avg_fidelity_with_targets,\n",
    "    attacked_axis_list_consumed_eprs_no_targets,\n",
    "    attacked_axis_list_consumed_eprs_with_targets,\n",
    "    attacked_axis_list_success_tax_no_targets,\n",
    "    attacked_axis_list_success_tax_with_targets\n",
    "]\n",
    "\n",
    "all_default_arrays_list = [\n",
    "    default_axle_avg_fidelity,\n",
    "    default_axle_consumed_eprs,\n",
    "    default_axle_success_tax\n",
    "]\n",
    "\n",
    "# find min length\n",
    "min_length: int = find_min_length(all_attacked_arrays_list, all_default_arrays_list)\n",
    "\n",
    "# resize attacked lists\n",
    "attacked_axis_eprs_consumed_no_targets = resize_attacked_array_to_same_length(min_length, attacked_axis_list_consumed_eprs_no_targets)\n",
    "attacked_axis_eprs_consumed_with_targets = resize_attacked_array_to_same_length(min_length, attacked_axis_list_consumed_eprs_with_targets)\n",
    "\n",
    "attacked_axis_success_tax_no_targets = resize_attacked_array_to_same_length(min_length, attacked_axis_list_success_tax_no_targets)\n",
    "attacked_axis_success_tax_with_targets = resize_attacked_array_to_same_length(min_length, attacked_axis_list_success_tax_with_targets)\n",
    "\n",
    "attacked_axis_avg_fidelity_no_targets = resize_attacked_array_to_same_length(min_length, attacked_axis_list_avg_fidelity_no_targets)\n",
    "attacked_axis_avg_fidelity_with_targets = resize_attacked_array_to_same_length(min_length, attacked_axis_list_avg_fidelity_with_targets)\n",
    "\n",
    "# resize default axis\n",
    "default_axle_avg_fidelity = resize_default_array_to_same_length(min_length, default_axle_avg_fidelity)\n",
    "default_axle_consumed_eprs = resize_default_array_to_same_length(min_length, default_axle_consumed_eprs)\n",
    "default_axle_success_tax = resize_default_array_to_same_length(min_length, default_axle_success_tax)"
   ]
  },
  {
   "cell_type": "markdown",
   "id": "090c67e6",
   "metadata": {},
   "source": [
    "## Create a graphic generator"
   ]
  },
  {
   "cell_type": "code",
   "execution_count": null,
   "id": "5cc89af3",
   "metadata": {},
   "outputs": [],
   "source": [
    "graphic_generator: Graphic_Gen = Graphic_Gen()"
   ]
  },
  {
   "cell_type": "markdown",
   "id": "f688ac8e",
   "metadata": {},
   "source": [
    "## Add data to graphic gen: Consumed Eprs without targets"
   ]
  },
  {
   "cell_type": "code",
   "execution_count": null,
   "id": "9b30ee88",
   "metadata": {},
   "outputs": [],
   "source": [
    "graphic_generator.define_x_axle(np.array(INTENSITIES))\n",
    "\n",
    "for i, bh_number in enumerate(BLACK_HOLES_NUMBER):\n",
    "    y_axle: np.ndarray = np.array(attacked_axis_eprs_consumed_no_targets[i])\n",
    "    if bh_number == 1:\n",
    "        graphic_generator.append_y_axle(y_axle, label=\"1 node\", standard_deviation=False, default_axle=default_axle_consumed_eprs, color=COLORS_LIST[i])\n",
    "    else:\n",
    "        graphic_generator.append_y_axle(y_axle, label=f\"{bh_number} nodes\", standard_deviation=False, default_axle=default_axle_consumed_eprs, color=COLORS_LIST[i])"
   ]
  },
  {
   "cell_type": "markdown",
   "id": "1f5d4015",
   "metadata": {},
   "source": [
    "## Plot graphic"
   ]
  },
  {
   "cell_type": "code",
   "execution_count": null,
   "id": "6dad6cc5",
   "metadata": {},
   "outputs": [],
   "source": [
    "graphic_generator.plot(tittle=\"Diff Eprs Consummed (target off)\", x_label=\"Intensity\", y_label=\"Diff Eprs per Request\", grid=True)"
   ]
  },
  {
   "cell_type": "markdown",
   "id": "0cde4229",
   "metadata": {},
   "source": [
    "## Consumed Eprs with target"
   ]
  },
  {
   "cell_type": "code",
   "execution_count": null,
   "id": "f4305bc9",
   "metadata": {},
   "outputs": [],
   "source": [
    "graphic_generator = Graphic_Gen()\n",
    "\n",
    "graphic_generator.define_x_axle(np.array(INTENSITIES))\n",
    "\n",
    "for i, bh_number in enumerate(BLACK_HOLES_NUMBER):\n",
    "    y_axle: np.ndarray = np.array(attacked_axis_eprs_consumed_with_targets[i])\n",
    "    if bh_number == 1:\n",
    "        graphic_generator.append_y_axle(y_axle, label=\"1 node\", standard_deviation=False, default_axle=default_axle_consumed_eprs, color=COLORS_LIST[i])\n",
    "    else:\n",
    "        graphic_generator.append_y_axle(y_axle, label=f\"{bh_number} nodes\", standard_deviation=False, default_axle=default_axle_consumed_eprs, color=COLORS_LIST[i])\n",
    "\n",
    "graphic_generator.plot(tittle=\"Diff Eprs Consummed (target on)\", x_label=\"Intensity\", y_label=\"Diff Eprs per Request\", grid=True)"
   ]
  },
  {
   "cell_type": "markdown",
   "id": "9d7d2b63",
   "metadata": {},
   "source": [
    "## Success tax without target"
   ]
  },
  {
   "cell_type": "code",
   "execution_count": null,
   "id": "9e4de474",
   "metadata": {},
   "outputs": [],
   "source": [
    "graphic_generator = Graphic_Gen()\n",
    "\n",
    "graphic_generator.define_x_axle(np.array(INTENSITIES))\n",
    "\n",
    "for i, bh_number in enumerate(BLACK_HOLES_NUMBER):\n",
    "    y_axle: np.ndarray = np.array(attacked_axis_success_tax_no_targets[i])\n",
    "    if bh_number == 1:\n",
    "        graphic_generator.append_y_axle(y_axle, label=\"1 node\", standard_deviation=False, default_axle=default_axle_success_tax, color=COLORS_LIST[i])\n",
    "    else:\n",
    "        graphic_generator.append_y_axle(y_axle, label=f\"{bh_number} nodes\", standard_deviation=False, default_axle=default_axle_success_tax, color=COLORS_LIST[i])\n",
    "\n",
    "graphic_generator.plot(tittle=\"Diff Success Tax (target off)\", x_label=\"Intensity\", y_label=\"Diff Success Tax\", grid=True)"
   ]
  },
  {
   "cell_type": "markdown",
   "id": "25f81f5b",
   "metadata": {},
   "source": [
    "## Success tax with target"
   ]
  },
  {
   "cell_type": "code",
   "execution_count": null,
   "id": "90cc3174",
   "metadata": {},
   "outputs": [],
   "source": [
    "graphic_generator = Graphic_Gen()\n",
    "\n",
    "graphic_generator.define_x_axle(np.array(INTENSITIES))\n",
    "\n",
    "for i, bh_number in enumerate(BLACK_HOLES_NUMBER):\n",
    "    y_axle: np.ndarray = np.array(attacked_axis_success_tax_with_targets[i])\n",
    "    if bh_number == 1:\n",
    "        graphic_generator.append_y_axle(y_axle, label=\"1 node\", standard_deviation=False, default_axle=default_axle_success_tax, color=COLORS_LIST[i])\n",
    "    else:\n",
    "        graphic_generator.append_y_axle(y_axle, label=f\"{bh_number} nodes\", standard_deviation=False, default_axle=default_axle_success_tax, color=COLORS_LIST[i])\n",
    "\n",
    "graphic_generator.plot(tittle=\"Diff Success Tax (target on)\", x_label=\"Intensity\", y_label=\"Diff Success Tax\", grid=True)"
   ]
  },
  {
   "cell_type": "markdown",
   "id": "898412d9",
   "metadata": {},
   "source": [
    "## Average fidelity route without target"
   ]
  },
  {
   "cell_type": "code",
   "execution_count": null,
   "id": "9f43791d",
   "metadata": {},
   "outputs": [],
   "source": [
    "graphic_generator = Graphic_Gen()\n",
    "\n",
    "graphic_generator.define_x_axle(np.array(INTENSITIES))\n",
    "\n",
    "for i, bh_number in enumerate(BLACK_HOLES_NUMBER):\n",
    "    y_axle: np.ndarray = np.array(attacked_axis_avg_fidelity_no_targets[i])\n",
    "    if bh_number == 1:\n",
    "        graphic_generator.append_y_axle(y_axle, label=\"1 node\", standard_deviation=False, default_axle=default_axle_avg_fidelity, color=COLORS_LIST[i])\n",
    "    else:\n",
    "        graphic_generator.append_y_axle(y_axle, label=f\"{bh_number} nodes\", standard_deviation=False, default_axle=default_axle_avg_fidelity, color=COLORS_LIST[i])\n",
    "\n",
    "graphic_generator.plot(tittle=\"Diff Avg Fidelity (target off)\", x_label=\"Intensity\", y_label=\"Diff Avg Fidelity\", grid=True)"
   ]
  },
  {
   "cell_type": "markdown",
   "id": "5b9dd66e",
   "metadata": {},
   "source": [
    "## Average fidelity route with target"
   ]
  },
  {
   "cell_type": "code",
   "execution_count": null,
   "id": "49173571",
   "metadata": {},
   "outputs": [],
   "source": [
    "graphic_generator = Graphic_Gen()\n",
    "\n",
    "graphic_generator.define_x_axle(np.array(INTENSITIES))\n",
    "\n",
    "for i, bh_number in enumerate(BLACK_HOLES_NUMBER):\n",
    "    y_axle: np.ndarray = np.array(attacked_axis_avg_fidelity_with_targets[i])\n",
    "    if bh_number == 1:\n",
    "        graphic_generator.append_y_axle(y_axle, label=\"1 node\", standard_deviation=False, default_axle=default_axle_avg_fidelity, color=COLORS_LIST[i])\n",
    "    else:\n",
    "        graphic_generator.append_y_axle(y_axle, label=f\"{bh_number} nodes\", standard_deviation=False, default_axle=default_axle_avg_fidelity, color=COLORS_LIST[i])\n",
    "\n",
    "graphic_generator.plot(tittle=\"Diff Avg Fidelity (target on)\", x_label=\"Intensity\", y_label=\"Diff Avg Fidelity\", grid=True)"
   ]
  }
 ],
 "metadata": {
  "kernelspec": {
   "display_name": ".venv",
   "language": "python",
   "name": "python3"
  },
  "language_info": {
   "codemirror_mode": {
    "name": "ipython",
    "version": 3
   },
   "file_extension": ".py",
   "mimetype": "text/x-python",
   "name": "python",
   "nbconvert_exporter": "python",
   "pygments_lexer": "ipython3",
   "version": "3.12.10"
  }
 },
 "nbformat": 4,
 "nbformat_minor": 5
}
