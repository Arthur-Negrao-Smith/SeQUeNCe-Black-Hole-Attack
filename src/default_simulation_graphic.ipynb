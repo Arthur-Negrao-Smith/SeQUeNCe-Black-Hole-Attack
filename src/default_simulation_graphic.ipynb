{
 "cells": [
  {
   "cell_type": "markdown",
   "id": "d5b3de9c",
   "metadata": {},
   "source": [
    "# File to analyze graphics of default simulation\n",
    "------------------------------------------------"
   ]
  },
  {
   "cell_type": "markdown",
   "id": "af029ab6",
   "metadata": {},
   "source": [
    "## Imports to collect data and plot graphics"
   ]
  },
  {
   "cell_type": "code",
   "execution_count": null,
   "id": "05c6dd45",
   "metadata": {},
   "outputs": [],
   "source": [
    "from components.graphic_generator import Graphic_Gen\n",
    "from components.data_manager import Data_Manager\n",
    "import components.network_data as nwd\n",
    "from components.utils.enums import Colors\n",
    "import numpy as np\n",
    "import pandas as pd"
   ]
  },
  {
   "cell_type": "markdown",
   "id": "a93cbfde",
   "metadata": {},
   "source": [
    "## Constants"
   ]
  },
  {
   "cell_type": "code",
   "execution_count": null,
   "id": "13632d9f",
   "metadata": {},
   "outputs": [],
   "source": [
    "PATH_TO_CSV: str = \"data/default_simulation/default_simulation.csv\"\n",
    "NUMBER_OF_GRAPHIC_POINTS: int = 7\n",
    "BLACK_HOLES_NUMBER: list = [1, 3, 5]\n",
    "INTENSITIES: list = [intensity*0.1 for intensity in range(1, 8)]\n",
    "STANDARD_DEVIATION: bool = False\n",
    "COLORS_LIST: list[Colors] = [Colors.RED, Colors.ORANGE, Colors.YELLOW]"
   ]
  },
  {
   "cell_type": "markdown",
   "id": "c7b15987",
   "metadata": {},
   "source": [
    "## Load csv"
   ]
  },
  {
   "cell_type": "code",
   "execution_count": null,
   "id": "ad326730",
   "metadata": {},
   "outputs": [],
   "source": [
    "dm: Data_Manager = Data_Manager()\n",
    "loaded: bool = dm.load_csv(PATH_TO_CSV)\n",
    "if not loaded:\n",
    "    print(\"File don't loaded\")"
   ]
  },
  {
   "cell_type": "markdown",
   "id": "9d633596",
   "metadata": {},
   "source": [
    "## Convert csv to pandas DataFrame"
   ]
  },
  {
   "cell_type": "code",
   "execution_count": null,
   "id": "55225036",
   "metadata": {},
   "outputs": [],
   "source": [
    "dframe: pd.DataFrame = dm.csv_to_dataframe()"
   ]
  },
  {
   "cell_type": "markdown",
   "id": "8b3b2fb9",
   "metadata": {},
   "source": [
    "## Manipulate data to collect columns from default network (without black holes)"
   ]
  },
  {
   "cell_type": "code",
   "execution_count": null,
   "id": "c6111161",
   "metadata": {},
   "outputs": [],
   "source": [
    "default_consummed_eprs: pd.Series = (dframe.loc[dframe[nwd.NUMBER_OF_BLACK_HOLES] == 0, nwd.CONSUMED_EPRS])\n",
    "default_success_tax: pd.Series = (dframe.loc[dframe[nwd.NUMBER_OF_BLACK_HOLES] == 0, nwd.TOTAL_REQUEST_SUCCESS])\n",
    "default_avg_fidelity: pd.Series = (dframe.loc[dframe[nwd.NUMBER_OF_BLACK_HOLES] == 0, nwd.TOTAL_ROUTE_FIDELITY])\n",
    "\n",
    "default_number_requests: pd.Series = (dframe.loc[dframe[nwd.NUMBER_OF_BLACK_HOLES] == 0, nwd.REQUESTS])\n",
    "default_number_total_requests_success: pd.Series = (dframe.loc[dframe[nwd.NUMBER_OF_BLACK_HOLES] == 0, nwd.TOTAL_REQUEST_SUCCESS])\n",
    "\n",
    "points_number: int = len(INTENSITIES)\n",
    "default_axle_consummed_eprs: np.ndarray = np.tile((default_consummed_eprs).to_numpy(), (points_number, 1))\n",
    "default_axle_success_tax: np.ndarray = np.tile(((default_success_tax / default_number_requests) * 100).to_numpy(), (points_number, 1))\n",
    "default_axle_avg_fidelity: np.ndarray = np.tile((default_avg_fidelity / default_number_total_requests_success).to_numpy(), (points_number, 1))"
   ]
  },
  {
   "cell_type": "markdown",
   "id": "c5cf92ea",
   "metadata": {},
   "source": [
    "## Function to collect attacked data from each number of black holes"
   ]
  },
  {
   "cell_type": "code",
   "execution_count": null,
   "id": "03479258",
   "metadata": {},
   "outputs": [],
   "source": [
    "def collect_axis_list(attack_column: str, divisor_column: str | None, targets: int, multiply_factor: int = 1) -> np.ndarray:\n",
    "    attacked_axis_list: list[np.ndarray] = []\n",
    "    for bh_number in BLACK_HOLES_NUMBER:\n",
    "        attacked_axis: list[np.ndarray] = []\n",
    "        for i in range(1, NUMBER_OF_GRAPHIC_POINTS+1):  \n",
    "            mask: pd.Series = (\n",
    "                (dframe[nwd.INTENSITY] == f\"i: {(i*0.1):.1f}\") &\n",
    "                (dframe[nwd.TARGETS_PER_BLACK_HOLE] == targets) &\n",
    "                (dframe[nwd.NUMBER_OF_BLACK_HOLES] == bh_number)\n",
    "            )\n",
    "            attack_serie: pd.Series = (dframe.loc[mask, attack_column])\n",
    "\n",
    "            if divisor_column is not None:\n",
    "                divisor_serie: pd.Series = (dframe.loc[mask, divisor_column])\n",
    "                data: np.ndarray = ((attack_serie / divisor_serie) * multiply_factor).to_numpy()\n",
    "            else:\n",
    "                data: np.ndarray = (attack_serie * multiply_factor).to_numpy()\n",
    "\n",
    "            attacked_axis.append(data)\n",
    "        attacked_axis_list.append(np.array(attacked_axis))\n",
    "    \n",
    "    return np.array(attacked_axis_list)"
   ]
  },
  {
   "cell_type": "markdown",
   "id": "f7c5dc71",
   "metadata": {},
   "source": [
    "## Use the function to collect axis list"
   ]
  },
  {
   "cell_type": "code",
   "execution_count": null,
   "id": "5fce28ae",
   "metadata": {},
   "outputs": [],
   "source": [
    "attacked_axis_consummed_eprs_no_targets: np.ndarray = collect_axis_list(attack_column=nwd.CONSUMED_EPRS, divisor_column=None, targets=0)\n",
    "attacked_axis_consummed_eprs_with_targets: np.ndarray = collect_axis_list(attack_column=nwd.CONSUMED_EPRS, divisor_column=None, targets=1)\n",
    "\n",
    "attacked_axis_success_tax_no_targets: np.ndarray = collect_axis_list(attack_column=nwd.TOTAL_REQUEST_SUCCESS, divisor_column=nwd.REQUESTS, targets=0, multiply_factor=100)\n",
    "attacked_axis_success_tax_with_targets: np.ndarray = collect_axis_list(attack_column=nwd.TOTAL_REQUEST_SUCCESS, divisor_column=nwd.REQUESTS, targets=1, multiply_factor=100)\n",
    "\n",
    "attacked_axis_avg_fidelity_no_targets: np.ndarray = collect_axis_list(attack_column=nwd.TOTAL_ROUTE_FIDELITY, divisor_column=nwd.TOTAL_REQUEST_SUCCESS, targets=0)\n",
    "attacked_axis_avg_fidelity_with_targets: np.ndarray = collect_axis_list(attack_column=nwd.TOTAL_ROUTE_FIDELITY, divisor_column=nwd.TOTAL_REQUEST_SUCCESS, targets=1)"
   ]
  },
  {
   "cell_type": "markdown",
   "id": "a7725913",
   "metadata": {},
   "source": [
    "--------------\n",
    "## Success Tax\n",
    "--------------"
   ]
  },
  {
   "cell_type": "markdown",
   "id": "9d7d2b63",
   "metadata": {},
   "source": [
    "### Success tax without target"
   ]
  },
  {
   "cell_type": "code",
   "execution_count": null,
   "id": "9e4de474",
   "metadata": {},
   "outputs": [],
   "source": [
    "graphic_generator = Graphic_Gen()\n",
    "\n",
    "graphic_generator.define_x_axle(np.array(INTENSITIES))\n",
    "\n",
    "for i, bh_number in enumerate(BLACK_HOLES_NUMBER):\n",
    "    y_axle: np.ndarray = np.array(attacked_axis_success_tax_no_targets[i])\n",
    "    if bh_number == 1:\n",
    "        graphic_generator.append_y_axle(y_axle, label=\"1 node\", standard_deviation=STANDARD_DEVIATION, default_axle=default_axle_success_tax, color=COLORS_LIST[i])\n",
    "    else:\n",
    "        graphic_generator.append_y_axle(y_axle, label=f\"{bh_number} nodes\", standard_deviation=STANDARD_DEVIATION, default_axle=default_axle_success_tax, color=COLORS_LIST[i])\n",
    "\n",
    "graphic_generator.plot(tittle=\"Diff Success Tax (target off)\", x_label=\"Intensity\", y_label=\"Diff Success Tax\", grid=True)"
   ]
  },
  {
   "cell_type": "markdown",
   "id": "25f81f5b",
   "metadata": {},
   "source": [
    "### Success tax with target"
   ]
  },
  {
   "cell_type": "code",
   "execution_count": null,
   "id": "90cc3174",
   "metadata": {},
   "outputs": [],
   "source": [
    "graphic_generator = Graphic_Gen()\n",
    "\n",
    "graphic_generator.define_x_axle(np.array(INTENSITIES))\n",
    "\n",
    "for i, bh_number in enumerate(BLACK_HOLES_NUMBER):\n",
    "    y_axle: np.ndarray = np.array(attacked_axis_success_tax_with_targets[i])\n",
    "    if bh_number == 1:\n",
    "        graphic_generator.append_y_axle(y_axle, label=\"1 node\", standard_deviation=STANDARD_DEVIATION, default_axle=default_axle_success_tax, color=COLORS_LIST[i])\n",
    "    else:\n",
    "        graphic_generator.append_y_axle(y_axle, label=f\"{bh_number} nodes\", standard_deviation=STANDARD_DEVIATION, default_axle=default_axle_success_tax, color=COLORS_LIST[i])\n",
    "\n",
    "graphic_generator.plot(tittle=\"Diff Success Tax (target on)\", x_label=\"Intensity\", y_label=\"Diff Success Tax\", grid=True)"
   ]
  },
  {
   "cell_type": "markdown",
   "id": "69601647",
   "metadata": {},
   "source": [
    "-----------------\n",
    "## Consummed EPRs\n",
    "-----------------"
   ]
  },
  {
   "cell_type": "markdown",
   "id": "f688ac8e",
   "metadata": {},
   "source": [
    "### Consumed EPRs without targets"
   ]
  },
  {
   "cell_type": "code",
   "execution_count": null,
   "id": "9b30ee88",
   "metadata": {},
   "outputs": [],
   "source": [
    "graphic_generator: Graphic_Gen = Graphic_Gen()\n",
    "\n",
    "graphic_generator.define_x_axle(np.array(INTENSITIES))\n",
    "\n",
    "for i, bh_number in enumerate(BLACK_HOLES_NUMBER):\n",
    "    y_axle: np.ndarray = attacked_axis_consummed_eprs_no_targets[i]\n",
    "    if bh_number == 1:\n",
    "        graphic_generator.append_y_axle(y_axle, label=\"1 node\", standard_deviation=STANDARD_DEVIATION, default_axle=default_axle_consummed_eprs, color=COLORS_LIST[i])\n",
    "    else:\n",
    "        graphic_generator.append_y_axle(y_axle, label=f\"{bh_number} nodes\", standard_deviation=STANDARD_DEVIATION, default_axle=default_axle_consummed_eprs, color=COLORS_LIST[i])\n",
    "\n",
    "graphic_generator.plot(tittle=\"Diff Consummed EPRs (target off)\", x_label=\"Intensity\", y_label=\"Diff Consummed Eprs\", grid=True)"
   ]
  },
  {
   "cell_type": "markdown",
   "id": "0cde4229",
   "metadata": {},
   "source": [
    "### Consumed EPRs with target"
   ]
  },
  {
   "cell_type": "code",
   "execution_count": null,
   "id": "f4305bc9",
   "metadata": {},
   "outputs": [],
   "source": [
    "graphic_generator = Graphic_Gen()\n",
    "\n",
    "graphic_generator.define_x_axle(np.array(INTENSITIES))\n",
    "\n",
    "for i, bh_number in enumerate(BLACK_HOLES_NUMBER):\n",
    "    y_axle: np.ndarray = np.array(attacked_axis_consummed_eprs_with_targets[i])\n",
    "    if bh_number == 1:\n",
    "        graphic_generator.append_y_axle(y_axle, label=\"1 node\", standard_deviation=STANDARD_DEVIATION, default_axle=default_axle_consummed_eprs, color=COLORS_LIST[i])\n",
    "    else:\n",
    "        graphic_generator.append_y_axle(y_axle, label=f\"{bh_number} nodes\", standard_deviation=STANDARD_DEVIATION, default_axle=default_axle_consummed_eprs, color=COLORS_LIST[i])\n",
    "\n",
    "graphic_generator.plot(tittle=\"Diff Consummed EPRs (target on)\", x_label=\"Intensity\", y_label=\"Diff Consummed Eprs\", grid=True)"
   ]
  },
  {
   "cell_type": "markdown",
   "id": "2dd0313f",
   "metadata": {},
   "source": [
    "-----------------\n",
    "## Route Fidelity\n",
    "-----------------"
   ]
  },
  {
   "cell_type": "markdown",
   "id": "898412d9",
   "metadata": {},
   "source": [
    "### Average Route Fidelity without target"
   ]
  },
  {
   "cell_type": "code",
   "execution_count": null,
   "id": "9f43791d",
   "metadata": {},
   "outputs": [],
   "source": [
    "graphic_generator = Graphic_Gen()\n",
    "\n",
    "graphic_generator.define_x_axle(np.array(INTENSITIES))\n",
    "\n",
    "for i, bh_number in enumerate(BLACK_HOLES_NUMBER):\n",
    "    y_axle: np.ndarray = np.array(attacked_axis_avg_fidelity_no_targets[i])\n",
    "    if bh_number == 1:\n",
    "        graphic_generator.append_y_axle(y_axle, label=\"1 node\", standard_deviation=STANDARD_DEVIATION, default_axle=default_axle_avg_fidelity, color=COLORS_LIST[i])\n",
    "    else:\n",
    "        graphic_generator.append_y_axle(y_axle, label=f\"{bh_number} nodes\", standard_deviation=STANDARD_DEVIATION, default_axle=default_axle_avg_fidelity, color=COLORS_LIST[i])\n",
    "\n",
    "graphic_generator.plot(tittle=\"Diff Avg Fidelity (target off)\", x_label=\"Intensity\", y_label=\"Diff Avg Fidelity\", grid=True)"
   ]
  },
  {
   "cell_type": "markdown",
   "id": "5b9dd66e",
   "metadata": {},
   "source": [
    "### Average Route Fidelity with target"
   ]
  },
  {
   "cell_type": "code",
   "execution_count": null,
   "id": "49173571",
   "metadata": {},
   "outputs": [],
   "source": [
    "graphic_generator = Graphic_Gen()\n",
    "\n",
    "graphic_generator.define_x_axle(np.array(INTENSITIES))\n",
    "\n",
    "for i, bh_number in enumerate(BLACK_HOLES_NUMBER):\n",
    "    y_axle: np.ndarray = np.array(attacked_axis_avg_fidelity_with_targets[i])\n",
    "    if bh_number == 1:\n",
    "        graphic_generator.append_y_axle(y_axle, label=\"1 node\", standard_deviation=STANDARD_DEVIATION, default_axle=default_axle_avg_fidelity, color=COLORS_LIST[i])\n",
    "    else:\n",
    "        graphic_generator.append_y_axle(y_axle, label=f\"{bh_number} nodes\", standard_deviation=STANDARD_DEVIATION, default_axle=default_axle_avg_fidelity, color=COLORS_LIST[i])\n",
    "\n",
    "graphic_generator.plot(tittle=\"Diff Avg Fidelity (target on)\", x_label=\"Intensity\", y_label=\"Diff Avg Fidelity\", grid=True)"
   ]
  },
  {
   "cell_type": "markdown",
   "id": "644b48e2",
   "metadata": {},
   "source": [
    "## Correlation Graphic"
   ]
  },
  {
   "cell_type": "code",
   "execution_count": null,
   "id": "6d4690df",
   "metadata": {},
   "outputs": [],
   "source": [
    "df: pd.DataFrame = dframe.drop(\n",
    "    columns=[\n",
    "        nwd.INTENSITY,\n",
    "        nwd.NORMAL_NODE_SWAP_PROB,\n",
    "        nwd.REQUESTS,\n",
    "        nwd.TOTAL_NO_PATHS,\n",
    "        nwd.NUMBER_OF_NODES,\n",
    "        nwd.PARAMETER,\n",
    "        nwd.NUMBER_OF_NODES,\n",
    "        nwd.TOPOLOGY \n",
    "    ]\n",
    ") # remove constants columns and string columns\n",
    "\n",
    "Graphic_Gen.plot_heatmap(df.corr(), title=\"Heatmap of Correlation in Topology Simulations\")"
   ]
  }
 ],
 "metadata": {
  "kernelspec": {
   "display_name": ".venv",
   "language": "python",
   "name": "python3"
  },
  "language_info": {
   "codemirror_mode": {
    "name": "ipython",
    "version": 3
   },
   "file_extension": ".py",
   "mimetype": "text/x-python",
   "name": "python",
   "nbconvert_exporter": "python",
   "pygments_lexer": "ipython3",
   "version": "3.12.10"
  }
 },
 "nbformat": 4,
 "nbformat_minor": 5
}
